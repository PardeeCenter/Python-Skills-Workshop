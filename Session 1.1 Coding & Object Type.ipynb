{
 "cells": [
  {
   "cell_type": "markdown",
   "metadata": {},
   "source": [
    "<img src=\"Pics/PardeeCenterLogo_finalnew.png\" />"
   ]
  },
  {
   "cell_type": "markdown",
   "metadata": {},
   "source": [
    "<b>Checklist before the launch:<b>\n",
    "\n",
    "<input type=\"checkbox\" checked> Python 3.7 installed (standalone or through Anacoda)\n",
    "\n",
    "<input type=\"checkbox\" checked> JupyterNotebook or JupyterLab installed 3.7 (standalone or through Anacoda)\n",
    "\n",
    "<input type=\"checkbox\"> Know how to create a notebook and run a Python code"
   ]
  },
  {
   "cell_type": "markdown",
   "metadata": {},
   "source": [
    "# General rules of Python programming with Jupyter\n",
    "\n",
    "<b>Jupyter<b>\n",
    "- Markdown block, Code block, Output block\n",
    "\n",
    "- Each Jupyter session runs a Python independently\n",
    "\n",
    "- In a same notebook, the next block of script won't start until the current one finishes\n",
    "    \n",
    "- Enhanced text editors (Atom, Vim, ...) or programming IDEs (Spyder, Microsoft Visual Studios, ...) help you understand scripts better\n",
    "\n",
    "<b>Python<b>\n",
    "- Python is an object oriented programming language- almost everything in Python is a Class (will cover later if time permitts). Classes have attributes, and functions\n",
    "\n",
    "- Python is 0-indexed, meaning the first position/location/index is represented by 0\n",
    "\n",
    "- UPPER & lower case matters!\n",
    "\n",
    "- Indentation (tabs & spaces) matters!\n",
    "\n",
    "- More lines is ok, more comments is good\n",
    "\n",
    "- Pick a coding style and stick to it, e.g., quotation marks\n",
    "\n",
    "- Error message is useful: location of error, type of error, etc.\n",
    "\n",
    "<b>Resources<b>\n",
    "- Know operaters in Python https://www.programiz.com/python-programming/operators\n",
    "    \n",
    "- Official documentations are always useful\n",
    "\n",
    "- Google is your friend  🔎, so are others: StackOverflow, Github, etc...\n",
    "\n",
    "- Know how to use Modules built by others- import \n"
   ]
  },
  {
   "cell_type": "markdown",
   "metadata": {},
   "source": [
    "# Basic Types: ints, floats, strings, boolean\n",
    "- ints are just integers, whole numbers. Student ID 873300001\n",
    "- floats are numbers with decimal points, or numbers with fractional parts. Weight 165.5 lbs\n",
    "- strings are letters, words, texts, or anything that are surrounded by double or single quotes. Name \"Yutang\"\n",
    "- boolean are logical types where only two values are accepted, True or False\n",
    "\n",
    "Use function <font color=\"red\">type()<font/> to check the type of an object"
   ]
  },
  {
   "cell_type": "code",
   "execution_count": 10,
   "metadata": {},
   "outputs": [
    {
     "name": "stdout",
     "output_type": "stream",
     "text": [
      "1 <class 'int'>\n",
      "1.0 <class 'float'>\n",
      "1 <class 'str'>\n",
      "True <class 'bool'>\n"
     ]
    }
   ],
   "source": [
    "print(1,type(1))\n",
    "print(1.0,type(1.0))\n",
    "print(\"1\",type(\"1\"))\n",
    "print(True,type(True))"
   ]
  },
  {
   "cell_type": "markdown",
   "metadata": {},
   "source": [
    "## More on basic types:\n",
    "\n",
    "- Value of a float has a limit, which you don't normally reach in the real world, around $10^{308}$ ?\n",
    "\n",
    "- True is 1 while False is 0\n",
    "\n",
    "- Sometimes you can convert from one type to another using:\n",
    "    - int() to ints\n",
    "    - float() to floats\n",
    "    - str() to strings\n",
    "    - bool() to boolean"
   ]
  },
  {
   "cell_type": "code",
   "execution_count": 12,
   "metadata": {},
   "outputs": [
    {
     "name": "stdout",
     "output_type": "stream",
     "text": [
      "23 <class 'int'>\n",
      "23.0 <class 'float'>\n",
      "23 <class 'str'>\n",
      "True <class 'bool'>\n"
     ]
    },
    {
     "data": {
      "text/plain": [
       "'23'"
      ]
     },
     "execution_count": 12,
     "metadata": {},
     "output_type": "execute_result"
    }
   ],
   "source": [
    "print(int(23.6), type(int(23.6)))\n",
    "print(float(23), type(float(23)))\n",
    "print(str(23), type(str(23)))\n",
    "print(bool(1), type(bool(1)))\n",
    "str(23)"
   ]
  },
  {
   "cell_type": "markdown",
   "metadata": {},
   "source": [
    "# Variables: names of objects which could be used later to refer to the objects\n",
    "\n",
    "- Variable names can only contain letters, digits, and underscores\n",
    "- Variable name cannot begin with a digit\n",
    "- It is  not a good practice to begin with underscores\n",
    "- Do not use built-in keywords or functions as variable names, or it will overwrtie those built-ins <br>\n",
    "https://docs.python.org/3.7/reference/lexical_analysis.html#keywords <br>\n",
    "https://docs.python.org/3.7/library/functions.html#built-in-funcs\n",
    "\n",
    "👍  💯  ✔️ Valid variable names: country1, iphone15, Class1_Student2  <br>\n",
    "👎  🚫  ❓Invalid variable names : 1class_2student, iphone-6s, print"
   ]
  },
  {
   "cell_type": "markdown",
   "metadata": {},
   "source": [
    "## More on objects & variables\n",
    "\n",
    "If an object has no reference to it anymore, Python's garbabge collection will likely remove it. Deleting variables might be useful if you're loading too much data, and the memory of your computer cannot take it "
   ]
  },
  {
   "cell_type": "code",
   "execution_count": 14,
   "metadata": {},
   "outputs": [
    {
     "name": "stdout",
     "output_type": "stream",
     "text": [
      "1\n"
     ]
    }
   ],
   "source": [
    "im_going_to_be_removed=1\n",
    "print(im_going_to_be_removed)"
   ]
  },
  {
   "cell_type": "code",
   "execution_count": 15,
   "metadata": {},
   "outputs": [
    {
     "ename": "NameError",
     "evalue": "name 'im_going_to_be_removed' is not defined",
     "output_type": "error",
     "traceback": [
      "\u001b[0;31m---------------------------------------------------------------------------\u001b[0m",
      "\u001b[0;31mNameError\u001b[0m                                 Traceback (most recent call last)",
      "\u001b[0;32m<ipython-input-15-53591651e08c>\u001b[0m in \u001b[0;36m<module>\u001b[0;34m\u001b[0m\n\u001b[1;32m      1\u001b[0m \u001b[0;32mdel\u001b[0m \u001b[0mim_going_to_be_removed\u001b[0m\u001b[0;34m\u001b[0m\u001b[0;34m\u001b[0m\u001b[0m\n\u001b[0;32m----> 2\u001b[0;31m \u001b[0mprint\u001b[0m\u001b[0;34m(\u001b[0m\u001b[0mim_going_to_be_removed\u001b[0m\u001b[0;34m)\u001b[0m\u001b[0;34m\u001b[0m\u001b[0;34m\u001b[0m\u001b[0m\n\u001b[0m",
      "\u001b[0;31mNameError\u001b[0m: name 'im_going_to_be_removed' is not defined"
     ]
    }
   ],
   "source": [
    "del im_going_to_be_removed\n",
    "print(im_going_to_be_removed)"
   ]
  },
  {
   "cell_type": "code",
   "execution_count": null,
   "metadata": {},
   "outputs": [],
   "source": []
  }
 ],
 "metadata": {
  "kernelspec": {
   "display_name": "Python 3",
   "language": "python",
   "name": "python3"
  },
  "language_info": {
   "codemirror_mode": {
    "name": "ipython",
    "version": 3
   },
   "file_extension": ".py",
   "mimetype": "text/x-python",
   "name": "python",
   "nbconvert_exporter": "python",
   "pygments_lexer": "ipython3",
   "version": "3.7.4"
  }
 },
 "nbformat": 4,
 "nbformat_minor": 4
}
