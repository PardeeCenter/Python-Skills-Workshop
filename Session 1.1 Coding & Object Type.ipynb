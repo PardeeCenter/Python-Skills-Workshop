{
 "cells": [
  {
   "cell_type": "markdown",
   "metadata": {},
   "source": [
    "<img src=\"Pics/PardeeCenterLogo_finalnew.png\" />"
   ]
  },
  {
   "cell_type": "markdown",
   "metadata": {},
   "source": [
    "<b>Checklist before the launch:<b>\n",
    "\n",
    "<input type=\"checkbox\" checked> Python 3.7 installed (standalone or through Anacoda)\n",
    "\n",
    "<input type=\"checkbox\" checked> JupyterNotebook or JupyterLab installed 3.7 (standalone or through Anacoda)\n",
    "\n",
    "<input type=\"checkbox\"> Know how to create a notebook and run a Python code"
   ]
  },
  {
   "cell_type": "markdown",
   "metadata": {},
   "source": [
    "# Basic Types: ints, floats, strings\n",
    "- ints are just integers, whole numbers. Student ID 873300001\n",
    "- floats are numbers with decimal points, or numbers with fractional parts. Weight 165.5 lbs\n",
    "- strings are letters, words, texts, or anything that are surrounded by double or single quotes. Name \"Yutang\"\n",
    "\n",
    "Use function <font color=\"red\">type()<font/> to check the type of an object"
   ]
  },
  {
   "cell_type": "code",
   "execution_count": 18,
   "metadata": {},
   "outputs": [
    {
     "name": "stdout",
     "output_type": "stream",
     "text": [
      "1 <class 'int'>\n",
      "1.0 <class 'float'>\n",
      "1 <class 'str'>\n"
     ]
    }
   ],
   "source": [
    "print(1,type(1))\n",
    "print(1.0,type(1.0))\n",
    "print(\"1\",type(\"1\"))"
   ]
  },
  {
   "cell_type": "markdown",
   "metadata": {},
   "source": [
    "## More on basic types:\n",
    "\n",
    "- Value of a float has a limit, which you don't normally reach in the real world, around $10^{308}$ ?\n",
    "\n",
    "- Sometimes you can convert from one type to another using:\n",
    "    - int() to ints\n",
    "    - float() to floats\n",
    "    - str() to strings"
   ]
  },
  {
   "cell_type": "code",
   "execution_count": 31,
   "metadata": {},
   "outputs": [
    {
     "name": "stdout",
     "output_type": "stream",
     "text": [
      "23 <class 'int'>\n",
      "23.0 <class 'float'>\n",
      "23 <class 'str'>\n"
     ]
    },
    {
     "data": {
      "text/plain": [
       "'23'"
      ]
     },
     "execution_count": 31,
     "metadata": {},
     "output_type": "execute_result"
    }
   ],
   "source": [
    "print( int(23.6), type(int(23.6)) )\n",
    "print( float(23), type(float(23)) )\n",
    "print( str(23), type(str(23)) )\n",
    "str(23)"
   ]
  },
  {
   "cell_type": "markdown",
   "metadata": {},
   "source": [
    "# Variables: names of objects which could be used later to refer to the objects\n",
    "\n",
    "- Variable names can only contain letters, digits, and underscores\n",
    "- Variable name cannot begin with a digit\n",
    "- It is  not a good practice to begin with underscores\n",
    "- Do not use built-in keywords or functions as variable names, or it will overwrtie those built-ins <br>\n",
    "https://docs.python.org/3.7/reference/lexical_analysis.html#keywords <br>\n",
    "https://docs.python.org/3.7/library/functions.html#built-in-funcs\n",
    "\n",
    "👍  💯  ✔️ Valid variable names: country1, iphone15, Class1_Student2  <br>\n",
    "👎  🚫  ❓Invalid variable names : 1class_2student, iphone-6s, print"
   ]
  },
  {
   "cell_type": "code",
   "execution_count": null,
   "metadata": {},
   "outputs": [],
   "source": []
  }
 ],
 "metadata": {
  "kernelspec": {
   "display_name": "Python 3",
   "language": "python",
   "name": "python3"
  },
  "language_info": {
   "codemirror_mode": {
    "name": "ipython",
    "version": 3
   },
   "file_extension": ".py",
   "mimetype": "text/x-python",
   "name": "python",
   "nbconvert_exporter": "python",
   "pygments_lexer": "ipython3",
   "version": "3.7.4"
  }
 },
 "nbformat": 4,
 "nbformat_minor": 4
}
