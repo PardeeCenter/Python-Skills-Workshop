{
 "cells": [
  {
   "cell_type": "markdown",
   "metadata": {},
   "source": [
    "<img src=\"Pics/PardeeCenterLogo_finalnew.png\" />"
   ]
  },
  {
   "cell_type": "markdown",
   "metadata": {},
   "source": [
    "# Session 1 Data Structures\n",
    "\n",
    "https://docs.python.org/3/tutorial/datastructures.html"
   ]
  },
  {
   "cell_type": "markdown",
   "metadata": {},
   "source": [
    "1. How do we store data (with various types introduced)?\n",
    "    - Student ID in a class\n",
    "    - States/provinces of a country\n",
    "2. How do we retrieve the data out of the place at where it was stored?\n",
    "    - Student ID of the last student entered in this class\n",
    "    - States/provinces of a country"
   ]
  },
  {
   "cell_type": "code",
   "execution_count": 10,
   "metadata": {},
   "outputs": [],
   "source": [
    "course1_id1=871\n",
    "course1_id2=872\n",
    "course1_id3=873\n",
    "\n",
    "us_state1=\"CO\"\n",
    "us_state2=\"AZ\"\n",
    "us_state3=\"FL\""
   ]
  },
  {
   "cell_type": "markdown",
   "metadata": {},
   "source": [
    "# Lists: sequences of <font color='red'>Any Values </font>\n",
    "A commaseparated list of values surrounded by square braces: [value1 , value2, value3]. To create a list:\n",
    "1. Type it as instructed [ 1, \"let's go list\", 0.5 ]\n",
    "2. Use function list() -- covered later if time permits\n",
    "\n",
    "Since a list can have <font color='red'>Any Values </font> in it, you can put a list into another list- nested list!\n",
    "\n",
    "A list can store a sequence of values which indicates that values in a list have a certain order. In addition, a list is sliceable- you can get a sublist from the original list. To get a sublist from a list (slicing), you use the colon operater <font color='red'>:</font> surrounded by the starting position and end position of a list. For instance, <font color='red'>ARandomList[2:5]</font> is getting the 3rd to the 5th element out of that list (3 elements in total). \n",
    "\n",
    "<b>Notes:</b> <br>\n",
    "1.Python is 0-indexed! (As opposed to R which is 1-indexed) <br>\n",
    "2.0 means the first position, meanwhile -1 represents the last position <br> \n",
    "3.Indexing from a nested list could be done in one line. <br>\n",
    "4.Strings and Lists behave very similar.\n"
   ]
  },
  {
   "cell_type": "markdown",
   "metadata": {},
   "source": [
    "## Practice- Lists\n",
    "Back to the questions, and more details: we have a small class with only 3 registered students, each of them comes from a different state. Student with an ID 871 is the first one who walks into the class today, then student 872 follows, and student 873 arrives in the end. To present this information, we can create two lists with respect to the order of when each student walked in. Using indices, we retrieve the values from lists and show the ID of the first arrived student and that student's state.\n",
    "\n",
    "Alternatively, we can create a nested list, with each list only containing one student's ID and state. \n",
    "\n",
    "With stored information, we can also show the information of first 2 students."
   ]
  },
  {
   "cell_type": "code",
   "execution_count": 31,
   "metadata": {},
   "outputs": [
    {
     "name": "stdout",
     "output_type": "stream",
     "text": [
      "873 FL\n",
      "----------------------\n",
      "FL\n",
      "['CO', 'AZ']\n",
      "['AZ', 'FL']\n"
     ]
    }
   ],
   "source": [
    "sid=[871,872,873]\n",
    "state=[\"CO\",\"AZ\",\"FL\"]\n",
    "print(sid[2],state[2])\n",
    "print(\"----------------------\")\n",
    "print(state[-1])\n",
    "print(state[0:2])\n",
    "print(state[1:])"
   ]
  },
  {
   "cell_type": "code",
   "execution_count": 32,
   "metadata": {},
   "outputs": [
    {
     "name": "stdout",
     "output_type": "stream",
     "text": [
      "[873, 'FL']\n",
      "----------------------\n",
      "873\n"
     ]
    }
   ],
   "source": [
    "student=[[871, \"CO\"],\n",
    "        [872, \"AZ\"],\n",
    "        [873, \"FL\"]]\n",
    "print(student[2])\n",
    "print(\"----------------------\")\n",
    "print(student[2][0])"
   ]
  },
  {
   "cell_type": "markdown",
   "metadata": {},
   "source": [
    "## Supplemental- Lists"
   ]
  },
  {
   "cell_type": "code",
   "execution_count": 29,
   "metadata": {},
   "outputs": [
    {
     "data": {
      "text/plain": [
       "3"
      ]
     },
     "execution_count": 29,
     "metadata": {},
     "output_type": "execute_result"
    }
   ],
   "source": [
    "# How many elements in a list? (How long is the list?)\n",
    "len(student)"
   ]
  },
  {
   "cell_type": "code",
   "execution_count": 33,
   "metadata": {},
   "outputs": [
    {
     "data": {
      "text/plain": [
       "[871, 872, 873, 876, 899]"
      ]
     },
     "execution_count": 33,
     "metadata": {},
     "output_type": "execute_result"
    }
   ],
   "source": [
    "# What if I need more elements added into a created list?\n",
    "sid+[876,899]"
   ]
  },
  {
   "cell_type": "markdown",
   "metadata": {},
   "source": [
    "# Dictonaries: Store key & value pairs and access them through the key.\n",
    "\n",
    "Unlike sequences of values where you retrieve information by indices, dictonaries provide another option: You can directly access an object's information by this object's ID. In addition, you can choose what should be the ID to represent that object. \n",
    "\n",
    "To create a dictionary, use open&close braces<font color='red'>{}</font> with keys and values inside, each key should be separated by comma<font color='red'>,</font>, and each key-values pair is connected with a colon <font color='red'>:</font>. A quick example: {\"Bob\":872}. To initialize an empty dictionary, you can either use {}, or dict()\n",
    "\n",
    "Back to the student example, as an administrator, by having student ID, you will want to be able to see that student's detailed information such as phone number, email address, and degree level. If this is achieving through lists, you will have to type in the information very carefully in a certain order, in the mean time, finding a student's information by his/her student ID would be hard since you will need to remember the position where his/her info was stored."
   ]
  },
  {
   "cell_type": "code",
   "execution_count": 11,
   "metadata": {},
   "outputs": [
    {
     "name": "stdout",
     "output_type": "stream",
     "text": [
      "5\n",
      "[871, 'CO', 'Jack@du.edu', 3030001234]\n"
     ]
    }
   ],
   "source": [
    "student_list=[\n",
    "        [871, \"CO\",\"Jack@du.edu\",3030001234],\n",
    "        [872, \"AZ\",\"Bob@du.edu\",3030001235],\n",
    "        [873, \"FL\",\"Lisa@du.edu\",3030001236],\n",
    "        [874, \"CO\",\"Madison@du.edu\",3030002231],\n",
    "        [875, \"LA\",\"James@du.edu\",3030002232]\n",
    "]\n",
    "# see how many students we have and info of the 1st student\n",
    "print(len(student_list))\n",
    "print(student_list[0])"
   ]
  },
  {
   "cell_type": "code",
   "execution_count": 13,
   "metadata": {},
   "outputs": [
    {
     "name": "stdout",
     "output_type": "stream",
     "text": [
      "5\n",
      "['CO', 'Jack@du.edu', 3030001234]\n"
     ]
    }
   ],
   "source": [
    "student_dict={\n",
    "    871:[\"CO\",\"Jack@du.edu\",3030001234],\n",
    "    872:[\"AZ\",\"Bob@du.edu\",3030001235],\n",
    "    873:[\"FL\",\"Lisa@du.edu\",3030001236],\n",
    "    874:[\"CO\",\"Madison@du.edu\",3030002231],\n",
    "    875:[\"LA\",\"James@du.edu\",3030002232]\n",
    "}\n",
    "# see how many students we have and info of student with an ID 871\n",
    "print(len(student_dict))\n",
    "print(student_dict[871])"
   ]
  },
  {
   "cell_type": "markdown",
   "metadata": {},
   "source": [
    "<img src='Pics/dictionaries_vs_lists.jpg' />"
   ]
  }
 ],
 "metadata": {
  "kernelspec": {
   "display_name": "Python 3",
   "language": "python",
   "name": "python3"
  },
  "language_info": {
   "codemirror_mode": {
    "name": "ipython",
    "version": 3
   },
   "file_extension": ".py",
   "mimetype": "text/x-python",
   "name": "python",
   "nbconvert_exporter": "python",
   "pygments_lexer": "ipython3",
   "version": "3.7.4"
  }
 },
 "nbformat": 4,
 "nbformat_minor": 4
}
