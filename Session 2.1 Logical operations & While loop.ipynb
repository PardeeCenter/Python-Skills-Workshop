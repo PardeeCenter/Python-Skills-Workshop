{
 "cells": [
  {
   "cell_type": "markdown",
   "metadata": {},
   "source": [
    "<img src=\"Pics/PardeeCenterLogo_finalnew.png\" />"
   ]
  },
  {
   "cell_type": "markdown",
   "metadata": {},
   "source": [
    "## **Session 2 Example: Add and Count in a Loop** \n",
    "\n"
   ]
  },
  {
   "cell_type": "markdown",
   "metadata": {},
   "source": [
    "This example illustrates a simple loop that incorporates addition and counting. Here, we want to users to provide positive values, which we will count and sum, both in total and according to whether they're odd or even. We want negative values to trigger a warning to try again, and we want zeroes to end the program and provide us our totals.\n",
    "\n",
    "**How to read this code:**\n",
    "1. To start, we initialize values for all variables in which we are interested. Because we haven't input any numbers yet, these counts and sums are specified as zero.  \n",
    "2. Once a positive value is entered, the program initializes the first value as odd or even, counts it, and creates both an odd/even-specific and total sum.\n",
    "3. Once complete, this chain of logical operations (i.e., ifs and or elses) *loops* back on itself. It continues to count and sum the odd, even, and total values until the user enters the value 0. The program also logs the number of negative (referred to here as \"incorrect\") values.\n",
    "4. Once the user enters a zero, the program completes by printing out the totals, sums, and counts.\n",
    "\n",
    "**Note:** It is important to have a loop that can terminate. Infinite loops are bad."
   ]
  },
  {
   "cell_type": "code",
   "execution_count": null,
   "metadata": {
    "scrolled": true
   },
   "outputs": [
    {
     "name": "stdout",
     "output_type": "stream",
     "text": [
      "--> Input a positive integer, input of 0 will terminate this program.\n"
     ]
    }
   ],
   "source": [
    "incorrect_value_count = 0\n",
    "positive_int_count = 0\n",
    "odd_count = 0\n",
    "even_count = 0\n",
    "odd_sum = 0\n",
    "even_sum = 0\n",
    "##\n",
    "print(\"--> Input a positive integer, input of 0 will terminate this program.\")\n",
    "correct_input=False\n",
    "while correct_input==False:\n",
    "    num1_str = input(\"Input a positive integer: \")\n",
    "    try:\n",
    "        num1_int = int(num1_str)\n",
    "        if num1_int>0:\n",
    "            positive_int_count +=1\n",
    "            if num1_int%2 != 0:\n",
    "                odd_count += 1 \n",
    "                odd_sum += num1_int\n",
    "            else:\n",
    "                even_count += 1\n",
    "                even_sum += num1_int\n",
    "            total_sum = odd_sum + even_sum\n",
    "            \n",
    "        elif num1_int ==0:\n",
    "            print(\"--> Note: values of 0 terminate this program. \\n\")\n",
    "            correct_input=True\n",
    "            \n",
    "        else:\n",
    "            print(\"--> Input value not valid. Try again. \\n\")\n",
    "            incorrect_value_count += 1\n",
    "    except:\n",
    "        print(\"--> Input value not valid. Try again. \\n\")\n",
    "        incorrect_value_count += 1\n",
    "##\n",
    "print(\"And now for the totals\")\n",
    "print(\"sum of positive odds:\", odd_sum)\n",
    "print(\"sum of positive evens:\", even_sum)\n",
    "print(\"total positive sum: \", total_sum)\n",
    "print(\"positive odd count:\", odd_count)\n",
    "print(\"positive even count:\", even_count)\n",
    "print(\"total positive int count:\", positive_int_count)\n",
    "print(\"total incorrect values count:\", incorrect_value_count)"
   ]
  },
  {
   "cell_type": "code",
   "execution_count": null,
   "metadata": {},
   "outputs": [],
   "source": []
  }
 ],
 "metadata": {
  "kernelspec": {
   "display_name": "Python 3",
   "language": "python",
   "name": "python3"
  },
  "language_info": {
   "codemirror_mode": {
    "name": "ipython",
    "version": 3
   },
   "file_extension": ".py",
   "mimetype": "text/x-python",
   "name": "python",
   "nbconvert_exporter": "python",
   "pygments_lexer": "ipython3",
   "version": "3.7.4"
  }
 },
 "nbformat": 4,
 "nbformat_minor": 2
}
