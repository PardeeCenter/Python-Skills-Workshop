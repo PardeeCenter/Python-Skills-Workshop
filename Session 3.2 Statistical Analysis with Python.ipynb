{
 "cells": [
  {
   "cell_type": "markdown",
   "metadata": {},
   "source": [
    "<img src=\"Pics/PardeeCenterLogo_finalnew.png\" />"
   ]
  },
  {
   "cell_type": "code",
   "execution_count": 2,
   "metadata": {},
   "outputs": [],
   "source": [
    "import pandas as pd\n",
    "import statsmodels.formula.api as smf\n",
    "import numpy as np"
   ]
  },
  {
   "cell_type": "markdown",
   "metadata": {},
   "source": [
    "# Data Info\n",
    "Using the resulting dataset we cleaned and formatted in the session 2.3. We treat MilitarySpending as our dependent variable, TotalTrade and the rivalry indicator as two independent variables.<br>\n",
    "\n",
    "DV: MilitarySpending- Continues variable <br>\n",
    "IV1: TotalTrade- Continues variable <br>\n",
    "IV2: AnyRivalry- Binary/dummy/dichotomous variable <br>"
   ]
  },
  {
   "cell_type": "code",
   "execution_count": 3,
   "metadata": {},
   "outputs": [
    {
     "name": "stdout",
     "output_type": "stream",
     "text": [
      "(11928, 6)\n"
     ]
    },
    {
     "data": {
      "text/html": [
       "<div>\n",
       "<style scoped>\n",
       "    .dataframe tbody tr th:only-of-type {\n",
       "        vertical-align: middle;\n",
       "    }\n",
       "\n",
       "    .dataframe tbody tr th {\n",
       "        vertical-align: top;\n",
       "    }\n",
       "\n",
       "    .dataframe thead th {\n",
       "        text-align: right;\n",
       "    }\n",
       "</style>\n",
       "<table border=\"1\" class=\"dataframe\">\n",
       "  <thead>\n",
       "    <tr style=\"text-align: right;\">\n",
       "      <th></th>\n",
       "      <th>country</th>\n",
       "      <th>year</th>\n",
       "      <th>sumofrivalries</th>\n",
       "      <th>anyrivalry</th>\n",
       "      <th>MilitarySpending</th>\n",
       "      <th>TotalTrade</th>\n",
       "    </tr>\n",
       "  </thead>\n",
       "  <tbody>\n",
       "    <tr>\n",
       "      <td>0</td>\n",
       "      <td>Afghanistan</td>\n",
       "      <td>1963.0</td>\n",
       "      <td>1.0</td>\n",
       "      <td>1.0</td>\n",
       "      <td>NaN</td>\n",
       "      <td>909.58270</td>\n",
       "    </tr>\n",
       "    <tr>\n",
       "      <td>1</td>\n",
       "      <td>Albania</td>\n",
       "      <td>1963.0</td>\n",
       "      <td>1.0</td>\n",
       "      <td>1.0</td>\n",
       "      <td>NaN</td>\n",
       "      <td>117.72906</td>\n",
       "    </tr>\n",
       "    <tr>\n",
       "      <td>2</td>\n",
       "      <td>Algeria</td>\n",
       "      <td>1963.0</td>\n",
       "      <td>1.0</td>\n",
       "      <td>1.0</td>\n",
       "      <td>NaN</td>\n",
       "      <td>9705.08790</td>\n",
       "    </tr>\n",
       "    <tr>\n",
       "      <td>3</td>\n",
       "      <td>Andorra</td>\n",
       "      <td>1963.0</td>\n",
       "      <td>0.0</td>\n",
       "      <td>0.0</td>\n",
       "      <td>NaN</td>\n",
       "      <td>0.00000</td>\n",
       "    </tr>\n",
       "    <tr>\n",
       "      <td>4</td>\n",
       "      <td>Antigua and Barbuda</td>\n",
       "      <td>1963.0</td>\n",
       "      <td>0.0</td>\n",
       "      <td>0.0</td>\n",
       "      <td>NaN</td>\n",
       "      <td>0.00000</td>\n",
       "    </tr>\n",
       "  </tbody>\n",
       "</table>\n",
       "</div>"
      ],
      "text/plain": [
       "               country    year  sumofrivalries  anyrivalry  MilitarySpending  \\\n",
       "0          Afghanistan  1963.0             1.0         1.0               NaN   \n",
       "1              Albania  1963.0             1.0         1.0               NaN   \n",
       "2              Algeria  1963.0             1.0         1.0               NaN   \n",
       "3              Andorra  1963.0             0.0         0.0               NaN   \n",
       "4  Antigua and Barbuda  1963.0             0.0         0.0               NaN   \n",
       "\n",
       "   TotalTrade  \n",
       "0   909.58270  \n",
       "1   117.72906  \n",
       "2  9705.08790  \n",
       "3     0.00000  \n",
       "4     0.00000  "
      ]
     },
     "execution_count": 3,
     "metadata": {},
     "output_type": "execute_result"
    }
   ],
   "source": [
    "rival=pd.read_csv(\"Datasets/OLS long form.csv\")\n",
    "print(rival.shape)\n",
    "rival.head()"
   ]
  },
  {
   "cell_type": "markdown",
   "metadata": {},
   "source": [
    "# Data Cleaning\n",
    "\n",
    "- column names\n",
    "- extra columns\n",
    "- missing values"
   ]
  },
  {
   "cell_type": "code",
   "execution_count": 4,
   "metadata": {},
   "outputs": [
    {
     "data": {
      "text/html": [
       "<div>\n",
       "<style scoped>\n",
       "    .dataframe tbody tr th:only-of-type {\n",
       "        vertical-align: middle;\n",
       "    }\n",
       "\n",
       "    .dataframe tbody tr th {\n",
       "        vertical-align: top;\n",
       "    }\n",
       "\n",
       "    .dataframe thead th {\n",
       "        text-align: right;\n",
       "    }\n",
       "</style>\n",
       "<table border=\"1\" class=\"dataframe\">\n",
       "  <thead>\n",
       "    <tr style=\"text-align: right;\">\n",
       "      <th></th>\n",
       "      <th>anyrivalry</th>\n",
       "      <th>MilitarySpending</th>\n",
       "      <th>TotalTrade</th>\n",
       "    </tr>\n",
       "  </thead>\n",
       "  <tbody>\n",
       "    <tr>\n",
       "      <td>0</td>\n",
       "      <td>1.0</td>\n",
       "      <td>NaN</td>\n",
       "      <td>909.58270</td>\n",
       "    </tr>\n",
       "    <tr>\n",
       "      <td>1</td>\n",
       "      <td>1.0</td>\n",
       "      <td>NaN</td>\n",
       "      <td>117.72906</td>\n",
       "    </tr>\n",
       "    <tr>\n",
       "      <td>2</td>\n",
       "      <td>1.0</td>\n",
       "      <td>NaN</td>\n",
       "      <td>9705.08790</td>\n",
       "    </tr>\n",
       "    <tr>\n",
       "      <td>3</td>\n",
       "      <td>0.0</td>\n",
       "      <td>NaN</td>\n",
       "      <td>0.00000</td>\n",
       "    </tr>\n",
       "    <tr>\n",
       "      <td>4</td>\n",
       "      <td>0.0</td>\n",
       "      <td>NaN</td>\n",
       "      <td>0.00000</td>\n",
       "    </tr>\n",
       "  </tbody>\n",
       "</table>\n",
       "</div>"
      ],
      "text/plain": [
       "   anyrivalry  MilitarySpending  TotalTrade\n",
       "0         1.0               NaN   909.58270\n",
       "1         1.0               NaN   117.72906\n",
       "2         1.0               NaN  9705.08790\n",
       "3         0.0               NaN     0.00000\n",
       "4         0.0               NaN     0.00000"
      ]
     },
     "execution_count": 4,
     "metadata": {},
     "output_type": "execute_result"
    }
   ],
   "source": [
    "# Use df.drop(columns=[column1, columns2, ...]) to remove extra columns\n",
    "# Or slicing the data df_new=df[ [column1, column2, ...] ] to pass in desired columns\n",
    "rival_ols=rival.drop(columns=[\"country\",\"year\",\"sumofrivalries\"])\n",
    "rival_ols=rival[[\"anyrivalry\", \"MilitarySpending\",\"TotalTrade\"]]\n",
    "rival_ols.head()"
   ]
  },
  {
   "cell_type": "code",
   "execution_count": null,
   "metadata": {},
   "outputs": [],
   "source": [
    "rival_ols_changed=rival_ols.rename( columns= {\"MilitarySpending\":\"TotalTrade\"})"
   ]
  },
  {
   "cell_type": "code",
   "execution_count": 5,
   "metadata": {},
   "outputs": [
    {
     "data": {
      "text/html": [
       "<div>\n",
       "<style scoped>\n",
       "    .dataframe tbody tr th:only-of-type {\n",
       "        vertical-align: middle;\n",
       "    }\n",
       "\n",
       "    .dataframe tbody tr th {\n",
       "        vertical-align: top;\n",
       "    }\n",
       "\n",
       "    .dataframe thead th {\n",
       "        text-align: right;\n",
       "    }\n",
       "</style>\n",
       "<table border=\"1\" class=\"dataframe\">\n",
       "  <thead>\n",
       "    <tr style=\"text-align: right;\">\n",
       "      <th></th>\n",
       "      <th>anyrival</th>\n",
       "      <th>milspend</th>\n",
       "      <th>totrade</th>\n",
       "    </tr>\n",
       "  </thead>\n",
       "  <tbody>\n",
       "    <tr>\n",
       "      <td>0</td>\n",
       "      <td>1.0</td>\n",
       "      <td>NaN</td>\n",
       "      <td>909.58270</td>\n",
       "    </tr>\n",
       "    <tr>\n",
       "      <td>1</td>\n",
       "      <td>1.0</td>\n",
       "      <td>NaN</td>\n",
       "      <td>117.72906</td>\n",
       "    </tr>\n",
       "    <tr>\n",
       "      <td>2</td>\n",
       "      <td>1.0</td>\n",
       "      <td>NaN</td>\n",
       "      <td>9705.08790</td>\n",
       "    </tr>\n",
       "    <tr>\n",
       "      <td>3</td>\n",
       "      <td>0.0</td>\n",
       "      <td>NaN</td>\n",
       "      <td>0.00000</td>\n",
       "    </tr>\n",
       "    <tr>\n",
       "      <td>4</td>\n",
       "      <td>0.0</td>\n",
       "      <td>NaN</td>\n",
       "      <td>0.00000</td>\n",
       "    </tr>\n",
       "  </tbody>\n",
       "</table>\n",
       "</div>"
      ],
      "text/plain": [
       "   anyrival  milspend     totrade\n",
       "0       1.0       NaN   909.58270\n",
       "1       1.0       NaN   117.72906\n",
       "2       1.0       NaN  9705.08790\n",
       "3       0.0       NaN     0.00000\n",
       "4       0.0       NaN     0.00000"
      ]
     },
     "execution_count": 5,
     "metadata": {},
     "output_type": "execute_result"
    }
   ],
   "source": [
    "# Use df.rename( columns= {key:value}) where key represents the original column name, and value represents the desired column name\n",
    "# Or make a bulk change\n",
    "rival_ols.columns=[\"anyrival\",\"milspend\",\"totrade\"]\n",
    "rival_ols.head()"
   ]
  },
  {
   "cell_type": "code",
   "execution_count": 18,
   "metadata": {},
   "outputs": [
    {
     "data": {
      "text/html": [
       "<div>\n",
       "<style scoped>\n",
       "    .dataframe tbody tr th:only-of-type {\n",
       "        vertical-align: middle;\n",
       "    }\n",
       "\n",
       "    .dataframe tbody tr th {\n",
       "        vertical-align: top;\n",
       "    }\n",
       "\n",
       "    .dataframe thead th {\n",
       "        text-align: right;\n",
       "    }\n",
       "</style>\n",
       "<table border=\"1\" class=\"dataframe\">\n",
       "  <thead>\n",
       "    <tr style=\"text-align: right;\">\n",
       "      <th></th>\n",
       "      <th>anyrival</th>\n",
       "      <th>milspend</th>\n",
       "      <th>totrade</th>\n",
       "    </tr>\n",
       "  </thead>\n",
       "  <tbody>\n",
       "    <tr>\n",
       "      <td>5</td>\n",
       "      <td>1.0</td>\n",
       "      <td>2894.278800</td>\n",
       "      <td>15218.4570</td>\n",
       "    </tr>\n",
       "    <tr>\n",
       "      <td>6</td>\n",
       "      <td>0.0</td>\n",
       "      <td>4759.999500</td>\n",
       "      <td>35756.1840</td>\n",
       "    </tr>\n",
       "    <tr>\n",
       "      <td>7</td>\n",
       "      <td>0.0</td>\n",
       "      <td>1394.913200</td>\n",
       "      <td>13649.2460</td>\n",
       "    </tr>\n",
       "    <tr>\n",
       "      <td>11</td>\n",
       "      <td>0.0</td>\n",
       "      <td>3888.127900</td>\n",
       "      <td>53124.7500</td>\n",
       "    </tr>\n",
       "    <tr>\n",
       "      <td>15</td>\n",
       "      <td>1.0</td>\n",
       "      <td>56.327415</td>\n",
       "      <td>1105.8807</td>\n",
       "    </tr>\n",
       "    <tr>\n",
       "      <td>...</td>\n",
       "      <td>...</td>\n",
       "      <td>...</td>\n",
       "      <td>...</td>\n",
       "    </tr>\n",
       "    <tr>\n",
       "      <td>10379</td>\n",
       "      <td>0.0</td>\n",
       "      <td>1042.905600</td>\n",
       "      <td>18163.7230</td>\n",
       "    </tr>\n",
       "    <tr>\n",
       "      <td>10382</td>\n",
       "      <td>1.0</td>\n",
       "      <td>244.294770</td>\n",
       "      <td>39934.0080</td>\n",
       "    </tr>\n",
       "    <tr>\n",
       "      <td>10383</td>\n",
       "      <td>0.0</td>\n",
       "      <td>4650.309100</td>\n",
       "      <td>433003.3100</td>\n",
       "    </tr>\n",
       "    <tr>\n",
       "      <td>10386</td>\n",
       "      <td>0.0</td>\n",
       "      <td>272.694950</td>\n",
       "      <td>15632.4080</td>\n",
       "    </tr>\n",
       "    <tr>\n",
       "      <td>10387</td>\n",
       "      <td>0.0</td>\n",
       "      <td>311.491880</td>\n",
       "      <td>6918.6982</td>\n",
       "    </tr>\n",
       "  </tbody>\n",
       "</table>\n",
       "<p>6869 rows × 3 columns</p>\n",
       "</div>"
      ],
      "text/plain": [
       "       anyrival     milspend      totrade\n",
       "5           1.0  2894.278800   15218.4570\n",
       "6           0.0  4759.999500   35756.1840\n",
       "7           0.0  1394.913200   13649.2460\n",
       "11          0.0  3888.127900   53124.7500\n",
       "15          1.0    56.327415    1105.8807\n",
       "...         ...          ...          ...\n",
       "10379       0.0  1042.905600   18163.7230\n",
       "10382       1.0   244.294770   39934.0080\n",
       "10383       0.0  4650.309100  433003.3100\n",
       "10386       0.0   272.694950   15632.4080\n",
       "10387       0.0   311.491880    6918.6982\n",
       "\n",
       "[6869 rows x 3 columns]"
      ]
     },
     "execution_count": 18,
     "metadata": {},
     "output_type": "execute_result"
    }
   ],
   "source": [
    "# Use df.isna() to check if any of the cells is empty\n",
    "# Use df.dropna() to remove rows that have at least 1 empty cell\n",
    "rival_ols.isna()\n",
    "rival_ols.dropna()"
   ]
  },
  {
   "cell_type": "markdown",
   "metadata": {},
   "source": [
    "# Descriptive Statistics\n",
    "\n",
    "- mean, median, standard deviation, number of obs\n",
    "- Examine the distibution: histogram, boxplot, ...\n",
    "- Data transformation: standardize, log transfrom, ..."
   ]
  },
  {
   "cell_type": "code",
   "execution_count": 9,
   "metadata": {},
   "outputs": [
    {
     "data": {
      "text/html": [
       "<div>\n",
       "<style scoped>\n",
       "    .dataframe tbody tr th:only-of-type {\n",
       "        vertical-align: middle;\n",
       "    }\n",
       "\n",
       "    .dataframe tbody tr th {\n",
       "        vertical-align: top;\n",
       "    }\n",
       "\n",
       "    .dataframe thead th {\n",
       "        text-align: right;\n",
       "    }\n",
       "</style>\n",
       "<table border=\"1\" class=\"dataframe\">\n",
       "  <thead>\n",
       "    <tr style=\"text-align: right;\">\n",
       "      <th></th>\n",
       "      <th>anyrival</th>\n",
       "      <th>milspend</th>\n",
       "      <th>totrade</th>\n",
       "    </tr>\n",
       "  </thead>\n",
       "  <tbody>\n",
       "    <tr>\n",
       "      <td>count</td>\n",
       "      <td>6869.000000</td>\n",
       "      <td>6869.000000</td>\n",
       "      <td>6.869000e+03</td>\n",
       "    </tr>\n",
       "    <tr>\n",
       "      <td>mean</td>\n",
       "      <td>0.365701</td>\n",
       "      <td>8369.736298</td>\n",
       "      <td>1.028590e+05</td>\n",
       "    </tr>\n",
       "    <tr>\n",
       "      <td>std</td>\n",
       "      <td>0.481661</td>\n",
       "      <td>45985.101290</td>\n",
       "      <td>3.021580e+05</td>\n",
       "    </tr>\n",
       "    <tr>\n",
       "      <td>min</td>\n",
       "      <td>0.000000</td>\n",
       "      <td>0.000000</td>\n",
       "      <td>0.000000e+00</td>\n",
       "    </tr>\n",
       "    <tr>\n",
       "      <td>25%</td>\n",
       "      <td>0.000000</td>\n",
       "      <td>88.630669</td>\n",
       "      <td>3.243768e+03</td>\n",
       "    </tr>\n",
       "    <tr>\n",
       "      <td>50%</td>\n",
       "      <td>0.000000</td>\n",
       "      <td>608.413570</td>\n",
       "      <td>1.274794e+04</td>\n",
       "    </tr>\n",
       "    <tr>\n",
       "      <td>75%</td>\n",
       "      <td>1.000000</td>\n",
       "      <td>3577.935500</td>\n",
       "      <td>6.228737e+04</td>\n",
       "    </tr>\n",
       "    <tr>\n",
       "      <td>max</td>\n",
       "      <td>1.000000</td>\n",
       "      <td>720220.000000</td>\n",
       "      <td>3.767269e+06</td>\n",
       "    </tr>\n",
       "  </tbody>\n",
       "</table>\n",
       "</div>"
      ],
      "text/plain": [
       "          anyrival       milspend       totrade\n",
       "count  6869.000000    6869.000000  6.869000e+03\n",
       "mean      0.365701    8369.736298  1.028590e+05\n",
       "std       0.481661   45985.101290  3.021580e+05\n",
       "min       0.000000       0.000000  0.000000e+00\n",
       "25%       0.000000      88.630669  3.243768e+03\n",
       "50%       0.000000     608.413570  1.274794e+04\n",
       "75%       1.000000    3577.935500  6.228737e+04\n",
       "max       1.000000  720220.000000  3.767269e+06"
      ]
     },
     "execution_count": 9,
     "metadata": {},
     "output_type": "execute_result"
    }
   ],
   "source": [
    "rival_ols.describe()"
   ]
  },
  {
   "cell_type": "code",
   "execution_count": 16,
   "metadata": {},
   "outputs": [
    {
     "name": "stderr",
     "output_type": "stream",
     "text": [
      "/Library/Frameworks/Python.framework/Versions/3.7/lib/python3.7/site-packages/ipykernel_launcher.py:2: SettingWithCopyWarning: \n",
      "A value is trying to be set on a copy of a slice from a DataFrame.\n",
      "Try using .loc[row_indexer,col_indexer] = value instead\n",
      "\n",
      "See the caveats in the documentation: http://pandas.pydata.org/pandas-docs/stable/user_guide/indexing.html#returning-a-view-versus-a-copy\n",
      "  \n",
      "/Library/Frameworks/Python.framework/Versions/3.7/lib/python3.7/site-packages/ipykernel_launcher.py:3: SettingWithCopyWarning: \n",
      "A value is trying to be set on a copy of a slice from a DataFrame.\n",
      "Try using .loc[row_indexer,col_indexer] = value instead\n",
      "\n",
      "See the caveats in the documentation: http://pandas.pydata.org/pandas-docs/stable/user_guide/indexing.html#returning-a-view-versus-a-copy\n",
      "  This is separate from the ipykernel package so we can avoid doing imports until\n"
     ]
    }
   ],
   "source": [
    "# log transformation for variables that have extreme values\n",
    "rival_ols[\"totrade_log\"]=np.log(1+rival_ols[\"totrade\"])\n",
    "rival_ols[\"milspend_log\"]=np.log(1+rival_ols[\"milspend\"])"
   ]
  },
  {
   "cell_type": "code",
   "execution_count": 17,
   "metadata": {},
   "outputs": [
    {
     "data": {
      "text/html": [
       "<div>\n",
       "<style scoped>\n",
       "    .dataframe tbody tr th:only-of-type {\n",
       "        vertical-align: middle;\n",
       "    }\n",
       "\n",
       "    .dataframe tbody tr th {\n",
       "        vertical-align: top;\n",
       "    }\n",
       "\n",
       "    .dataframe thead th {\n",
       "        text-align: right;\n",
       "    }\n",
       "</style>\n",
       "<table border=\"1\" class=\"dataframe\">\n",
       "  <thead>\n",
       "    <tr style=\"text-align: right;\">\n",
       "      <th></th>\n",
       "      <th>anyrival</th>\n",
       "      <th>milspend</th>\n",
       "      <th>totrade</th>\n",
       "      <th>totrade_log</th>\n",
       "      <th>milspend_log</th>\n",
       "    </tr>\n",
       "  </thead>\n",
       "  <tbody>\n",
       "    <tr>\n",
       "      <td>5</td>\n",
       "      <td>1.0</td>\n",
       "      <td>2894.278800</td>\n",
       "      <td>15218.4570</td>\n",
       "      <td>9.630330</td>\n",
       "      <td>7.970837</td>\n",
       "    </tr>\n",
       "    <tr>\n",
       "      <td>6</td>\n",
       "      <td>0.0</td>\n",
       "      <td>4759.999500</td>\n",
       "      <td>35756.1840</td>\n",
       "      <td>10.484506</td>\n",
       "      <td>8.468213</td>\n",
       "    </tr>\n",
       "    <tr>\n",
       "      <td>7</td>\n",
       "      <td>0.0</td>\n",
       "      <td>1394.913200</td>\n",
       "      <td>13649.2460</td>\n",
       "      <td>9.521513</td>\n",
       "      <td>7.241304</td>\n",
       "    </tr>\n",
       "    <tr>\n",
       "      <td>11</td>\n",
       "      <td>0.0</td>\n",
       "      <td>3888.127900</td>\n",
       "      <td>53124.7500</td>\n",
       "      <td>10.880417</td>\n",
       "      <td>8.265940</td>\n",
       "    </tr>\n",
       "    <tr>\n",
       "      <td>15</td>\n",
       "      <td>1.0</td>\n",
       "      <td>56.327415</td>\n",
       "      <td>1105.8807</td>\n",
       "      <td>7.009301</td>\n",
       "      <td>4.048779</td>\n",
       "    </tr>\n",
       "  </tbody>\n",
       "</table>\n",
       "</div>"
      ],
      "text/plain": [
       "    anyrival     milspend     totrade  totrade_log  milspend_log\n",
       "5        1.0  2894.278800  15218.4570     9.630330      7.970837\n",
       "6        0.0  4759.999500  35756.1840    10.484506      8.468213\n",
       "7        0.0  1394.913200  13649.2460     9.521513      7.241304\n",
       "11       0.0  3888.127900  53124.7500    10.880417      8.265940\n",
       "15       1.0    56.327415   1105.8807     7.009301      4.048779"
      ]
     },
     "execution_count": 17,
     "metadata": {},
     "output_type": "execute_result"
    }
   ],
   "source": [
    "rival_ols.head()"
   ]
  },
  {
   "cell_type": "code",
   "execution_count": 23,
   "metadata": {},
   "outputs": [
    {
     "name": "stderr",
     "output_type": "stream",
     "text": [
      "/Library/Frameworks/Python.framework/Versions/3.7/lib/python3.7/site-packages/ipykernel_launcher.py:2: SettingWithCopyWarning: \n",
      "A value is trying to be set on a copy of a slice from a DataFrame.\n",
      "Try using .loc[row_indexer,col_indexer] = value instead\n",
      "\n",
      "See the caveats in the documentation: http://pandas.pydata.org/pandas-docs/stable/user_guide/indexing.html#returning-a-view-versus-a-copy\n",
      "  \n",
      "/Library/Frameworks/Python.framework/Versions/3.7/lib/python3.7/site-packages/ipykernel_launcher.py:3: SettingWithCopyWarning: \n",
      "A value is trying to be set on a copy of a slice from a DataFrame.\n",
      "Try using .loc[row_indexer,col_indexer] = value instead\n",
      "\n",
      "See the caveats in the documentation: http://pandas.pydata.org/pandas-docs/stable/user_guide/indexing.html#returning-a-view-versus-a-copy\n",
      "  This is separate from the ipykernel package so we can avoid doing imports until\n"
     ]
    },
    {
     "data": {
      "text/plain": [
       "<matplotlib.axes._subplots.AxesSubplot at 0x1230ee950>"
      ]
     },
     "execution_count": 23,
     "metadata": {},
     "output_type": "execute_result"
    },
    {
     "data": {
      "image/png": "[encoded data removed]",
      "text/plain": [
       "<Figure size 432x288 with 1 Axes>"
      ]
     },
     "metadata": {
      "needs_background": "light"
     },
     "output_type": "display_data"
    }
   ],
   "source": [
    "# log transformation for variables that have extreme values\n",
    "rival_ols[\"totrade_log\"]=np.log(1+rival_ols[\"totrade\"])\n",
    "rival_ols[\"milspend_log\"]=np.log(1+rival_ols[\"milspend\"])\n",
    "\n",
    "# Histogram\n",
    "rival_ols[\"totrade_log\"].plot.hist(bins=100)"
   ]
  },
  {
   "cell_type": "code",
   "execution_count": 25,
   "metadata": {},
   "outputs": [
    {
     "data": {
      "text/plain": [
       "<matplotlib.axes._subplots.AxesSubplot at 0x1233a2250>"
      ]
     },
     "execution_count": 25,
     "metadata": {},
     "output_type": "execute_result"
    },
    {
     "data": {
      "image/png": "[encoded data removed]",
      "text/plain": [
       "<Figure size 432x288 with 1 Axes>"
      ]
     },
     "metadata": {
      "needs_background": "light"
     },
     "output_type": "display_data"
    }
   ],
   "source": [
    "# Boxplot\n",
    "rival_ols.boxplot(column=[\"milspend_log\",\"totrade_log\"])"
   ]
  },
  {
   "cell_type": "markdown",
   "metadata": {},
   "source": [
    "# Pairwise Scatter Plot"
   ]
  },
  {
   "cell_type": "code",
   "execution_count": 27,
   "metadata": {},
   "outputs": [],
   "source": [
    "import seaborn as sns"
   ]
  },
  {
   "cell_type": "code",
   "execution_count": 29,
   "metadata": {},
   "outputs": [
    {
     "data": {
      "text/plain": [
       "<seaborn.axisgrid.PairGrid at 0x123b4d210>"
      ]
     },
     "execution_count": 29,
     "metadata": {},
     "output_type": "execute_result"
    },
    {
     "data": {
      "image/png": "[encoded data removed]",
      "text/plain": [
       "<Figure size 900x900 with 30 Axes>"
      ]
     },
     "metadata": {},
     "output_type": "display_data"
    }
   ],
   "source": [
    "sns.set(style=\"ticks\")\n",
    "sns.pairplot(rival_ols,diag_kind = 'kde' ) # "
   ]
  },
  {
   "cell_type": "markdown",
   "metadata": {},
   "source": [
    "# Pearson Regression "
   ]
  },
  {
   "cell_type": "code",
   "execution_count": 59,
   "metadata": {},
   "outputs": [
    {
     "data": {
      "text/html": [
       "<div>\n",
       "<style scoped>\n",
       "    .dataframe tbody tr th:only-of-type {\n",
       "        vertical-align: middle;\n",
       "    }\n",
       "\n",
       "    .dataframe tbody tr th {\n",
       "        vertical-align: top;\n",
       "    }\n",
       "\n",
       "    .dataframe thead th {\n",
       "        text-align: right;\n",
       "    }\n",
       "</style>\n",
       "<table border=\"1\" class=\"dataframe\">\n",
       "  <thead>\n",
       "    <tr style=\"text-align: right;\">\n",
       "      <th></th>\n",
       "      <th>anyrival</th>\n",
       "      <th>milspend</th>\n",
       "      <th>totrade</th>\n",
       "      <th>totrade_log</th>\n",
       "      <th>milspend_log</th>\n",
       "    </tr>\n",
       "  </thead>\n",
       "  <tbody>\n",
       "    <tr>\n",
       "      <td>anyrival</td>\n",
       "      <td>1.000000</td>\n",
       "      <td>0.137644</td>\n",
       "      <td>0.051238</td>\n",
       "      <td>0.017901</td>\n",
       "      <td>0.210385</td>\n",
       "    </tr>\n",
       "    <tr>\n",
       "      <td>milspend</td>\n",
       "      <td>0.137644</td>\n",
       "      <td>1.000000</td>\n",
       "      <td>0.658460</td>\n",
       "      <td>0.275523</td>\n",
       "      <td>0.369881</td>\n",
       "    </tr>\n",
       "    <tr>\n",
       "      <td>totrade</td>\n",
       "      <td>0.051238</td>\n",
       "      <td>0.658460</td>\n",
       "      <td>1.000000</td>\n",
       "      <td>0.542076</td>\n",
       "      <td>0.492263</td>\n",
       "    </tr>\n",
       "    <tr>\n",
       "      <td>totrade_log</td>\n",
       "      <td>0.017901</td>\n",
       "      <td>0.275523</td>\n",
       "      <td>0.542076</td>\n",
       "      <td>1.000000</td>\n",
       "      <td>0.675621</td>\n",
       "    </tr>\n",
       "    <tr>\n",
       "      <td>milspend_log</td>\n",
       "      <td>0.210385</td>\n",
       "      <td>0.369881</td>\n",
       "      <td>0.492263</td>\n",
       "      <td>0.675621</td>\n",
       "      <td>1.000000</td>\n",
       "    </tr>\n",
       "  </tbody>\n",
       "</table>\n",
       "</div>"
      ],
      "text/plain": [
       "              anyrival  milspend   totrade  totrade_log  milspend_log\n",
       "anyrival      1.000000  0.137644  0.051238     0.017901      0.210385\n",
       "milspend      0.137644  1.000000  0.658460     0.275523      0.369881\n",
       "totrade       0.051238  0.658460  1.000000     0.542076      0.492263\n",
       "totrade_log   0.017901  0.275523  0.542076     1.000000      0.675621\n",
       "milspend_log  0.210385  0.369881  0.492263     0.675621      1.000000"
      ]
     },
     "execution_count": 59,
     "metadata": {},
     "output_type": "execute_result"
    }
   ],
   "source": [
    "rival_ols.corr(method=\"pearson\")"
   ]
  },
  {
   "cell_type": "markdown",
   "metadata": {},
   "source": [
    "# OLS\n",
    "\n",
    "Using R-style formula writing\n",
    "https://www.statsmodels.org/dev/example_formulas.html\n",
    "\n",
    "Conceptual model:\n",
    "\n",
    "Natural Log of Total Trade = Intercept + $\\beta$$_1$ * Natural Log of Military Speding + $\\beta$$_2$ * Rival Indicator\n"
   ]
  },
  {
   "cell_type": "code",
   "execution_count": 30,
   "metadata": {},
   "outputs": [],
   "source": [
    "model_ols=smf.ols(\"totrade_log ~ milspend_log+ C(anyrival)\",data=rival_ols)"
   ]
  },
  {
   "cell_type": "code",
   "execution_count": 31,
   "metadata": {},
   "outputs": [
    {
     "data": {
      "text/plain": [
       "<statsmodels.regression.linear_model.OLS at 0x127af4890>"
      ]
     },
     "execution_count": 31,
     "metadata": {},
     "output_type": "execute_result"
    }
   ],
   "source": [
    "model_ols"
   ]
  },
  {
   "cell_type": "code",
   "execution_count": 32,
   "metadata": {},
   "outputs": [
    {
     "data": {
      "text/html": [
       "<table class=\"simpletable\">\n",
       "<caption>OLS Regression Results</caption>\n",
       "<tr>\n",
       "  <th>Dep. Variable:</th>       <td>totrade_log</td>   <th>  R-squared:         </th> <td>   0.473</td> \n",
       "</tr>\n",
       "<tr>\n",
       "  <th>Model:</th>                   <td>OLS</td>       <th>  Adj. R-squared:    </th> <td>   0.472</td> \n",
       "</tr>\n",
       "<tr>\n",
       "  <th>Method:</th>             <td>Least Squares</td>  <th>  F-statistic:       </th> <td>   3076.</td> \n",
       "</tr>\n",
       "<tr>\n",
       "  <th>Date:</th>             <td>Sat, 22 Feb 2020</td> <th>  Prob (F-statistic):</th>  <td>  0.00</td>  \n",
       "</tr>\n",
       "<tr>\n",
       "  <th>Time:</th>                 <td>15:34:12</td>     <th>  Log-Likelihood:    </th> <td> -13101.</td> \n",
       "</tr>\n",
       "<tr>\n",
       "  <th>No. Observations:</th>      <td>  6869</td>      <th>  AIC:               </th> <td>2.621e+04</td>\n",
       "</tr>\n",
       "<tr>\n",
       "  <th>Df Residuals:</th>          <td>  6866</td>      <th>  BIC:               </th> <td>2.623e+04</td>\n",
       "</tr>\n",
       "<tr>\n",
       "  <th>Df Model:</th>              <td>     2</td>      <th>                     </th>     <td> </td>    \n",
       "</tr>\n",
       "<tr>\n",
       "  <th>Covariance Type:</th>      <td>nonrobust</td>    <th>                     </th>     <td> </td>    \n",
       "</tr>\n",
       "</table>\n",
       "<table class=\"simpletable\">\n",
       "<tr>\n",
       "           <td></td>             <th>coef</th>     <th>std err</th>      <th>t</th>      <th>P>|t|</th>  <th>[0.025</th>    <th>0.975]</th>  \n",
       "</tr>\n",
       "<tr>\n",
       "  <th>Intercept</th>          <td>    5.7199</td> <td>    0.054</td> <td>  105.900</td> <td> 0.000</td> <td>    5.614</td> <td>    5.826</td>\n",
       "</tr>\n",
       "<tr>\n",
       "  <th>C(anyrival)[T.1.0]</th> <td>   -0.6056</td> <td>    0.042</td> <td>  -14.500</td> <td> 0.000</td> <td>   -0.688</td> <td>   -0.524</td>\n",
       "</tr>\n",
       "<tr>\n",
       "  <th>milspend_log</th>       <td>    0.6348</td> <td>    0.008</td> <td>   78.414</td> <td> 0.000</td> <td>    0.619</td> <td>    0.651</td>\n",
       "</tr>\n",
       "</table>\n",
       "<table class=\"simpletable\">\n",
       "<tr>\n",
       "  <th>Omnibus:</th>       <td>5525.290</td> <th>  Durbin-Watson:     </th>  <td>   1.913</td> \n",
       "</tr>\n",
       "<tr>\n",
       "  <th>Prob(Omnibus):</th>  <td> 0.000</td>  <th>  Jarque-Bera (JB):  </th> <td>197322.361</td>\n",
       "</tr>\n",
       "<tr>\n",
       "  <th>Skew:</th>           <td>-3.608</td>  <th>  Prob(JB):          </th>  <td>    0.00</td> \n",
       "</tr>\n",
       "<tr>\n",
       "  <th>Kurtosis:</th>       <td>28.246</td>  <th>  Cond. No.          </th>  <td>    19.1</td> \n",
       "</tr>\n",
       "</table><br/><br/>Warnings:<br/>[1] Standard Errors assume that the covariance matrix of the errors is correctly specified."
      ],
      "text/plain": [
       "<class 'statsmodels.iolib.summary.Summary'>\n",
       "\"\"\"\n",
       "                            OLS Regression Results                            \n",
       "==============================================================================\n",
       "Dep. Variable:            totrade_log   R-squared:                       0.473\n",
       "Model:                            OLS   Adj. R-squared:                  0.472\n",
       "Method:                 Least Squares   F-statistic:                     3076.\n",
       "Date:                Sat, 22 Feb 2020   Prob (F-statistic):               0.00\n",
       "Time:                        15:34:12   Log-Likelihood:                -13101.\n",
       "No. Observations:                6869   AIC:                         2.621e+04\n",
       "Df Residuals:                    6866   BIC:                         2.623e+04\n",
       "Df Model:                           2                                         \n",
       "Covariance Type:            nonrobust                                         \n",
       "======================================================================================\n",
       "                         coef    std err          t      P>|t|      [0.025      0.975]\n",
       "--------------------------------------------------------------------------------------\n",
       "Intercept              5.7199      0.054    105.900      0.000       5.614       5.826\n",
       "C(anyrival)[T.1.0]    -0.6056      0.042    -14.500      0.000      -0.688      -0.524\n",
       "milspend_log           0.6348      0.008     78.414      0.000       0.619       0.651\n",
       "==============================================================================\n",
       "Omnibus:                     5525.290   Durbin-Watson:                   1.913\n",
       "Prob(Omnibus):                  0.000   Jarque-Bera (JB):           197322.361\n",
       "Skew:                          -3.608   Prob(JB):                         0.00\n",
       "Kurtosis:                      28.246   Cond. No.                         19.1\n",
       "==============================================================================\n",
       "\n",
       "Warnings:\n",
       "[1] Standard Errors assume that the covariance matrix of the errors is correctly specified.\n",
       "\"\"\""
      ]
     },
     "execution_count": 32,
     "metadata": {},
     "output_type": "execute_result"
    }
   ],
   "source": [
    "model_ols=smf.ols(\"totrade_log ~ milspend_log+ C(anyrival)\",data=rival_ols)\n",
    "model_ols.fit().summary()"
   ]
  },
  {
   "cell_type": "markdown",
   "metadata": {},
   "source": [
    "# Logistic Regression"
   ]
  },
  {
   "cell_type": "code",
   "execution_count": 66,
   "metadata": {},
   "outputs": [
    {
     "data": {
      "text/html": [
       "<table class=\"simpletable\">\n",
       "<caption>Generalized Linear Model Regression Results</caption>\n",
       "<tr>\n",
       "  <th>Dep. Variable:</th>       <td>anyrival</td>     <th>  No. Observations:  </th>  <td>  6869</td> \n",
       "</tr>\n",
       "<tr>\n",
       "  <th>Model:</th>                  <td>GLM</td>       <th>  Df Residuals:      </th>  <td>  6866</td> \n",
       "</tr>\n",
       "<tr>\n",
       "  <th>Model Family:</th>        <td>Binomial</td>     <th>  Df Model:          </th>  <td>     2</td> \n",
       "</tr>\n",
       "<tr>\n",
       "  <th>Link Function:</th>         <td>logit</td>      <th>  Scale:             </th> <td>  1.0000</td>\n",
       "</tr>\n",
       "<tr>\n",
       "  <th>Method:</th>                <td>IRLS</td>       <th>  Log-Likelihood:    </th> <td> -4226.4</td>\n",
       "</tr>\n",
       "<tr>\n",
       "  <th>Date:</th>            <td>Fri, 21 Feb 2020</td> <th>  Deviance:          </th> <td>  8452.8</td>\n",
       "</tr>\n",
       "<tr>\n",
       "  <th>Time:</th>                <td>14:20:12</td>     <th>  Pearson chi2:      </th> <td>8.98e+03</td>\n",
       "</tr>\n",
       "<tr>\n",
       "  <th>No. Iterations:</th>          <td>5</td>        <th>                     </th>     <td> </td>   \n",
       "</tr>\n",
       "<tr>\n",
       "  <th>Covariance Type:</th>     <td>nonrobust</td>    <th>                     </th>     <td> </td>   \n",
       "</tr>\n",
       "</table>\n",
       "<table class=\"simpletable\">\n",
       "<tr>\n",
       "        <td></td>          <th>coef</th>     <th>std err</th>      <th>z</th>      <th>P>|z|</th>  <th>[0.025</th>    <th>0.975]</th>  \n",
       "</tr>\n",
       "<tr>\n",
       "  <th>Intercept</th>    <td>   -0.1160</td> <td>    0.138</td> <td>   -0.839</td> <td> 0.401</td> <td>   -0.387</td> <td>    0.155</td>\n",
       "</tr>\n",
       "<tr>\n",
       "  <th>totrade_log</th>  <td>   -0.3264</td> <td>    0.024</td> <td>  -13.406</td> <td> 0.000</td> <td>   -0.374</td> <td>   -0.279</td>\n",
       "</tr>\n",
       "<tr>\n",
       "  <th>milspend_log</th> <td>    0.4166</td> <td>    0.022</td> <td>   19.052</td> <td> 0.000</td> <td>    0.374</td> <td>    0.459</td>\n",
       "</tr>\n",
       "</table>"
      ],
      "text/plain": [
       "<class 'statsmodels.iolib.summary.Summary'>\n",
       "\"\"\"\n",
       "                 Generalized Linear Model Regression Results                  \n",
       "==============================================================================\n",
       "Dep. Variable:               anyrival   No. Observations:                 6869\n",
       "Model:                            GLM   Df Residuals:                     6866\n",
       "Model Family:                Binomial   Df Model:                            2\n",
       "Link Function:                  logit   Scale:                          1.0000\n",
       "Method:                          IRLS   Log-Likelihood:                -4226.4\n",
       "Date:                Fri, 21 Feb 2020   Deviance:                       8452.8\n",
       "Time:                        14:20:12   Pearson chi2:                 8.98e+03\n",
       "No. Iterations:                     5                                         \n",
       "Covariance Type:            nonrobust                                         \n",
       "================================================================================\n",
       "                   coef    std err          z      P>|z|      [0.025      0.975]\n",
       "--------------------------------------------------------------------------------\n",
       "Intercept       -0.1160      0.138     -0.839      0.401      -0.387       0.155\n",
       "totrade_log     -0.3264      0.024    -13.406      0.000      -0.374      -0.279\n",
       "milspend_log     0.4166      0.022     19.052      0.000       0.374       0.459\n",
       "================================================================================\n",
       "\"\"\""
      ]
     },
     "execution_count": 66,
     "metadata": {},
     "output_type": "execute_result"
    }
   ],
   "source": [
    "import statsmodels.api as sm\n",
    "model_logit = smf.glm(\"anyrival ~ totrade_log + milspend_log\", data=rival_ols, family=sm.families.Binomial())\n",
    "model_logit.fit().summary()"
   ]
  },
  {
   "cell_type": "code",
   "execution_count": null,
   "metadata": {},
   "outputs": [],
   "source": []
  }
 ],
 "metadata": {
  "kernelspec": {
   "display_name": "Python 3",
   "language": "python",
   "name": "python3"
  },
  "language_info": {
   "codemirror_mode": {
    "name": "ipython",
    "version": 3
   },
   "file_extension": ".py",
   "mimetype": "text/x-python",
   "name": "python",
   "nbconvert_exporter": "python",
   "pygments_lexer": "ipython3",
   "version": "3.7.4"
  }
 },
 "nbformat": 4,
 "nbformat_minor": 4
}
