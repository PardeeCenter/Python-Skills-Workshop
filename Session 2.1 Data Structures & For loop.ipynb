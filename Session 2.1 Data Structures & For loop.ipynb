{
 "cells": [
  {
   "cell_type": "markdown",
   "metadata": {},
   "source": [
    "<img src=\"Pics/PardeeCenterLogo_finalnew.png\" />"
   ]
  },
  {
   "cell_type": "markdown",
   "metadata": {},
   "source": [
    "# Session 1 Data Structures\n",
    "1. How do we store data (with various types introduced)?\n",
    "    - Student ID in a class\n",
    "    - States/provinces of a country\n",
    "2. How do we retrieve the data from where it was stored?\n",
    "    - Student ID of the last student entered in this class\n",
    "    - States/provinces of a country"
   ]
  },
  {
   "cell_type": "code",
   "execution_count": 1,
   "metadata": {},
   "outputs": [],
   "source": [
    "course1_id1=871\n",
    "course1_id2=872\n",
    "course1_id3=873\n",
    "\n",
    "us_state1=\"CO\"\n",
    "us_state2=\"AZ\"\n",
    "us_state3=\"MO\""
   ]
  },
  {
   "cell_type": "markdown",
   "metadata": {},
   "source": [
    "# Lists: sequences of <font color='red'>Any Values </font>\n",
    "A comma separated list of values surrounded by brackets: [value1 , value2, value3]. To create a list:\n",
    "1. Type it as instructed [ 1, \"let's go list\", 0.5 ]\n",
    "2. Use function list() -- covered later if time permits\n",
    "\n",
    "Since a list can have <font color='red'>Any Values </font> in it, you can put a list into another list- nested list!\n",
    "\n",
    "A list can store a sequence of values which indicates that values in a list have a certain order. In addition, a list is sliceable- you can get a sublist from the original list. To get a sublist from a list (slicing), you use the colon operater <font color='red'>:</font> surrounded by the starting position and end position of a list. For instance, <font color='red'>ARandomList[2:5]</font> is getting the 3rd to the 5th element out of that list (3 elements in total). \n",
    "\n",
    "<b>Notes:</b> <br>\n",
    "1.Python is 0-indexed! (As opposed to R which is 1-indexed) <br>\n",
    "2.0 means the first position, meanwhile -1 represents the last position <br> \n",
    "3.Indexing from a nested list could be done in one line. <br>\n",
    "4.Strings and Lists behave very similar.\n"
   ]
  },
  {
   "cell_type": "markdown",
   "metadata": {},
   "source": [
    "## Practice- Lists\n",
    "Back to the questions, and more details: we have a small class with only 3 registered students, each of them comes from a different state. The student with ID 871 is the first one who walks into the class today, then student 872 follows, and student 873 arrives last. To present this information, we can create two lists with respect to the order of when each student walked in. Using indices, we retrieve the values from lists and show the ID of the first arrived student and that student's state.\n",
    "\n",
    "Alternatively, we can create a nested list, with each list only containing one student's ID and state. \n",
    "\n",
    "With stored information, we can also show the information of the first 2 students."
   ]
  },
  {
   "cell_type": "code",
   "execution_count": 2,
   "metadata": {},
   "outputs": [
    {
     "name": "stdout",
     "output_type": "stream",
     "text": [
      "873 MO\n"
     ]
    }
   ],
   "source": [
    "sid=[871,872,873]\n",
    "state=[\"CO\",\"AZ\",\"MO\"]\n",
    "print(sid[2],state[2])"
   ]
  },
  {
   "cell_type": "code",
   "execution_count": 3,
   "metadata": {},
   "outputs": [
    {
     "name": "stdout",
     "output_type": "stream",
     "text": [
      "873 FL\n",
      "----------------------\n",
      "FL\n",
      "['CO', 'AZ']\n",
      "['AZ', 'FL']\n"
     ]
    }
   ],
   "source": [
    "sid=[871,872,873]\n",
    "state=[\"CO\",\"AZ\",\"MO\"]\n",
    "print(sid[2],state[2])\n",
    "print(\"----------------------\")\n",
    "print(state[-1])\n",
    "print(state[0:2])\n",
    "print(state[1:])"
   ]
  },
  {
   "cell_type": "code",
   "execution_count": 3,
   "metadata": {},
   "outputs": [
    {
     "name": "stdout",
     "output_type": "stream",
     "text": [
      "[873, 'FL']\n",
      "----------------------\n",
      "873\n"
     ]
    }
   ],
   "source": [
    "student=[\n",
    "    [871, \"CO\"],\n",
    "    [872, \"AZ\"],\n",
    "    [873, \"FL\"]\n",
    "]\n",
    "print(student[2])\n",
    "print(\"----------------------\")\n",
    "print(student[2][0])"
   ]
  },
  {
   "cell_type": "markdown",
   "metadata": {},
   "source": [
    "## More on Lists"
   ]
  },
  {
   "cell_type": "code",
   "execution_count": 5,
   "metadata": {},
   "outputs": [
    {
     "data": {
      "text/plain": [
       "3"
      ]
     },
     "execution_count": 5,
     "metadata": {},
     "output_type": "execute_result"
    }
   ],
   "source": [
    "# How many elements in a list? (How long is the list?)\n",
    "len(student)"
   ]
  },
  {
   "cell_type": "code",
   "execution_count": 5,
   "metadata": {},
   "outputs": [
    {
     "data": {
      "text/plain": [
       "[871, 872, 873, 876, 9909, 871203, 1414312]"
      ]
     },
     "execution_count": 5,
     "metadata": {},
     "output_type": "execute_result"
    }
   ],
   "source": [
    "# What if I need more elements added into a created list?\n",
    "sid+[876,9909,871203,1414312]"
   ]
  },
  {
   "cell_type": "code",
   "execution_count": 10,
   "metadata": {},
   "outputs": [
    {
     "name": "stdout",
     "output_type": "stream",
     "text": [
      "[2, 4, 6, 3, 1]\n",
      "[1, 2, 3, 4, 6]\n"
     ]
    }
   ],
   "source": [
    "# sort list?\n",
    "l1=[2,4,6,3,1]\n",
    "print(l1)\n",
    "l1.sort()\n",
    "print(l1)"
   ]
  },
  {
   "cell_type": "markdown",
   "metadata": {},
   "source": [
    "# Dictonaries: Store key & value pairs and access them through the key.\n",
    "\n",
    "Unlike sequences of values where you retrieve information by indices, dictonaries provide another option: You can directly access an object's information by this object's ID. In addition, you can choose what should be the ID to represent that object. \n",
    "\n",
    "To create a dictionary, use open & close braces<font color='red'>{}</font> with keys and values inside, each key should be separated by comma<font color='red'>,</font> and each key-values pair is connected with a colon <font color='red'>:</font>. A quick example: {\"Bob\":872}. To initialize an empty dictionary, you can either use {}, or dict()\n",
    "\n",
    "Back to the student example, as an administrator, by having the student ID, you want to be able to see that student's detailed information such as phone number, email address, and degree level. If this is achieved through lists, you have to type in the information very carefully in a certain order, in the mean time, finding a student's information by his/her student ID would be hard since you will need to remember the position where his/her info was stored."
   ]
  },
  {
   "cell_type": "code",
   "execution_count": 12,
   "metadata": {},
   "outputs": [
    {
     "name": "stdout",
     "output_type": "stream",
     "text": [
      "5\n",
      "[871, 'CO', 'Jack@du.edu', 3030001234]\n"
     ]
    }
   ],
   "source": [
    "student_list=[\n",
    "        [871, \"CO\",\"Jack@du.edu\",3030001234],\n",
    "        [872, \"AZ\",\"Bob@du.edu\",3030001235],\n",
    "        [873, \"FL\",\"Lisa@du.edu\",3030001236],\n",
    "        [874, \"CO\",\"Madison@du.edu\",3030002231],\n",
    "        [875, \"LA\",\"James@du.edu\",3030002232]\n",
    "]\n",
    "# see how many students we have and info of the 1st student\n",
    "print(len(student_list))\n",
    "print(student_list[0])"
   ]
  },
  {
   "cell_type": "code",
   "execution_count": 15,
   "metadata": {},
   "outputs": [
    {
     "name": "stdout",
     "output_type": "stream",
     "text": [
      "5\n",
      "['CO', 'Jack@du.edu', 3030001234]\n"
     ]
    }
   ],
   "source": [
    "student_dict={\n",
    "    871:[\"CO\",\"Jack@du.edu\",3030001234],\n",
    "    872:[\"AZ\",\"Bob@du.edu\",3030001235],\n",
    "    873:[\"FL\",\"Lisa@du.edu\",3030001236],\n",
    "    874:[\"CO\",\"Madison@du.edu\",3030002231],\n",
    "    875:[\"LA\",\"James@du.edu\",3030002232]\n",
    "}\n",
    "# see how many students we have and info of student with an ID 871\n",
    "print(len(student_dict))\n",
    "print(student_dict[871])"
   ]
  },
  {
   "cell_type": "markdown",
   "metadata": {},
   "source": [
    "## More on Dictionaries"
   ]
  },
  {
   "cell_type": "code",
   "execution_count": 18,
   "metadata": {},
   "outputs": [
    {
     "data": {
      "text/plain": [
       "{871: ['CO', 'Jack@du.edu', 3030001234],\n",
       " 872: ['AZ', 'Bob@du.edu', 3030001235],\n",
       " 873: ['FL', 'Lisa@du.edu', 3030001236],\n",
       " 874: ['CO', 'Madison@du.edu', 3030002231],\n",
       " 875: ['LA', 'James@du.edu', 3030002232]}"
      ]
     },
     "execution_count": 18,
     "metadata": {},
     "output_type": "execute_result"
    }
   ],
   "source": [
    "student_dict"
   ]
  },
  {
   "cell_type": "code",
   "execution_count": 19,
   "metadata": {},
   "outputs": [
    {
     "data": {
      "text/plain": [
       "['FL', 'Lisa@du.edu', 3030001236]"
      ]
     },
     "execution_count": 19,
     "metadata": {},
     "output_type": "execute_result"
    }
   ],
   "source": [
    "student_dict.pop(873)"
   ]
  },
  {
   "cell_type": "code",
   "execution_count": 20,
   "metadata": {},
   "outputs": [
    {
     "data": {
      "text/plain": [
       "{871: ['CO', 'Jack@du.edu', 3030001234],\n",
       " 872: ['AZ', 'Bob@du.edu', 3030001235],\n",
       " 874: ['CO', 'Madison@du.edu', 3030002231],\n",
       " 875: ['LA', 'James@du.edu', 3030002232]}"
      ]
     },
     "execution_count": 20,
     "metadata": {},
     "output_type": "execute_result"
    }
   ],
   "source": [
    "student_dict"
   ]
  },
  {
   "cell_type": "code",
   "execution_count": 21,
   "metadata": {},
   "outputs": [],
   "source": [
    "del student_dict[871]"
   ]
  },
  {
   "cell_type": "code",
   "execution_count": 22,
   "metadata": {},
   "outputs": [
    {
     "data": {
      "text/plain": [
       "{872: ['AZ', 'Bob@du.edu', 3030001235],\n",
       " 874: ['CO', 'Madison@du.edu', 3030002231],\n",
       " 875: ['LA', 'James@du.edu', 3030002232]}"
      ]
     },
     "execution_count": 22,
     "metadata": {},
     "output_type": "execute_result"
    }
   ],
   "source": [
    "student_dict"
   ]
  },
  {
   "cell_type": "code",
   "execution_count": 19,
   "metadata": {},
   "outputs": [
    {
     "name": "stdout",
     "output_type": "stream",
     "text": [
      "dict_keys([871, 872, 873, 874, 875])\n",
      "['AZ', 'Bob@du.edu', 3030001235]\n",
      "dict_keys([871, 873, 874, 875])\n"
     ]
    }
   ],
   "source": [
    "# remove entry? dict.pop() or del dict[key]\n",
    "print(student_dict.keys())\n",
    "print(student_dict.pop(872))\n",
    "print(student_dict.keys())"
   ]
  },
  {
   "cell_type": "code",
   "execution_count": 20,
   "metadata": {},
   "outputs": [
    {
     "name": "stdout",
     "output_type": "stream",
     "text": [
      "dict_keys([871, 873, 874, 875])\n",
      "dict_keys([873, 874, 875])\n"
     ]
    }
   ],
   "source": [
    "print(student_dict.keys())\n",
    "del student_dict[871]\n",
    "print(student_dict.keys())"
   ]
  },
  {
   "cell_type": "markdown",
   "metadata": {},
   "source": [
    "## More on Data Structures\n",
    "- More built in data structures in Python: Tuples, Sets \n",
    "https://docs.python.org/3/tutorial/datastructures.html\n",
    "- There are many more functionalities you can do with Lists & Dictionaries\n",
    "    - You can sort values in a list\n",
    "    - You can count how many times an element appears in a list\n",
    "    - Same as nested lists, you can build a nested dictionaries\n",
    "- Another important point about these data structures is that most of them are iterables, meaning we get to write loops based on them\n"
   ]
  },
  {
   "cell_type": "markdown",
   "metadata": {},
   "source": [
    "<img src='Pics/dictionaries_vs_lists.jpg' />"
   ]
  },
  {
   "cell_type": "markdown",
   "metadata": {},
   "source": [
    "# For Loops\n",
    "Not an actual loop, rather a sequence of similar actions.\n",
    "<img src='Pics/for loop.png'>\n",
    "\n",
    "A quick example- calculate each number's squared value from 1 to 10?"
   ]
  },
  {
   "cell_type": "code",
   "execution_count": 23,
   "metadata": {},
   "outputs": [
    {
     "name": "stdout",
     "output_type": "stream",
     "text": [
      "1\n",
      "4\n",
      "9\n",
      "16\n",
      "25\n",
      "36\n",
      "49\n",
      "64\n",
      "81\n",
      "100\n"
     ]
    }
   ],
   "source": [
    "print(1**2)\n",
    "print(2**2)\n",
    "print(3**2)\n",
    "print(4**2)\n",
    "print(5**2)\n",
    "print(6**2)\n",
    "print(7**2)\n",
    "print(8**2)\n",
    "print(9**2)\n",
    "print(10**2)"
   ]
  },
  {
   "cell_type": "code",
   "execution_count": 27,
   "metadata": {},
   "outputs": [
    {
     "name": "stdout",
     "output_type": "stream",
     "text": [
      "1\n",
      "4\n",
      "9\n",
      "16\n",
      "25\n",
      "36\n",
      "49\n",
      "64\n",
      "81\n",
      "100\n"
     ]
    }
   ],
   "source": [
    "for number in [1,2,3,4,5,6,7,8,9,10]:\n",
    "    print(number**2)"
   ]
  },
  {
   "cell_type": "markdown",
   "metadata": {},
   "source": [
    "What if I want 1 to 25? <br>\n",
    "A: Generate integers/iterables using range()\n",
    "- range() has an important feature- it starts from the first number, and excludes the ending number. Thus, range(0,5) acutally means 0 to 4."
   ]
  },
  {
   "cell_type": "code",
   "execution_count": 28,
   "metadata": {},
   "outputs": [
    {
     "name": "stdout",
     "output_type": "stream",
     "text": [
      "1\n",
      "9\n",
      "25\n",
      "49\n",
      "81\n"
     ]
    }
   ],
   "source": [
    "for n in [1,3,5,7,9]:\n",
    "    print(n**2)"
   ]
  },
  {
   "cell_type": "code",
   "execution_count": 29,
   "metadata": {},
   "outputs": [
    {
     "name": "stdout",
     "output_type": "stream",
     "text": [
      "100\n",
      "81\n",
      "64\n",
      "49\n",
      "36\n",
      "25\n",
      "16\n",
      "9\n",
      "4\n",
      "1\n"
     ]
    }
   ],
   "source": [
    "for n in range(10,0,-1):\n",
    "    print(n**2)"
   ]
  },
  {
   "cell_type": "markdown",
   "metadata": {},
   "source": [
    "Back to the example of students in the class, lets print out each student's phone number and associated Email.\n",
    "recap:\n",
    "- lists use indices\n",
    "- dicts use keys"
   ]
  },
  {
   "cell_type": "code",
   "execution_count": 32,
   "metadata": {},
   "outputs": [
    {
     "name": "stdout",
     "output_type": "stream",
     "text": [
      "['CO', 'Jack@du.edu']\n",
      "['AZ', 'Bob@du.edu']\n",
      "['FL', 'Lisa@du.edu']\n",
      "['CO', 'Madison@du.edu']\n",
      "['LA', 'James@du.edu']\n"
     ]
    }
   ],
   "source": [
    "for student in student_list:\n",
    "    print( student[ 1:3] )"
   ]
  },
  {
   "cell_type": "code",
   "execution_count": 35,
   "metadata": {},
   "outputs": [],
   "source": [
    "student_list=[\n",
    "        [871, \"CO\",\"Jack@du.edu\",3030001234],\n",
    "        [872, \"AZ\",\"Bob@du.edu\",3030001235],\n",
    "        [873, \"FL\",\"Lisa@du.edu\",3030001236],\n",
    "        [874, \"CO\",\"Madison@du.edu\",3030002231],\n",
    "        [875, \"LA\",\"James@du.edu\",3030002232]\n",
    "]"
   ]
  },
  {
   "cell_type": "code",
   "execution_count": 36,
   "metadata": {},
   "outputs": [
    {
     "name": "stdout",
     "output_type": "stream",
     "text": [
      "Jack@du.edu 3030001234\n",
      "Bob@du.edu 3030001235\n",
      "Lisa@du.edu 3030001236\n",
      "Madison@du.edu 3030002231\n",
      "James@du.edu 3030002232\n"
     ]
    }
   ],
   "source": [
    "for s in student_list:\n",
    "    print(s[2],s[3])"
   ]
  }
 ],
 "metadata": {
  "kernelspec": {
   "display_name": "Python 3",
   "language": "python",
   "name": "python3"
  },
  "language_info": {
   "codemirror_mode": {
    "name": "ipython",
    "version": 3
   },
   "file_extension": ".py",
   "mimetype": "text/x-python",
   "name": "python",
   "nbconvert_exporter": "python",
   "pygments_lexer": "ipython3",
   "version": "3.7.4"
  }
 },
 "nbformat": 4,
 "nbformat_minor": 4
}
