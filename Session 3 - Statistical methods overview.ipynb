{
 "cells": [
  {
   "cell_type": "markdown",
   "metadata": {},
   "source": [
    "<img src=\"Pics/PardeeCenterLogo_finalnew.png\" />"
   ]
  },
  {
   "cell_type": "markdown",
   "metadata": {},
   "source": [
    "## **Session 3 Basic Statistical Analysis:**"
   ]
  },
  {
   "cell_type": "markdown",
   "metadata": {},
   "source": [
    "### **Distrubutions**\n",
    "\n",
    "We've presumably all learned about variable distributions at this point, but it's important to reiterate that we must keep variable's distribution in mind when conducting statistical analysis. Often, we assume that a variable is normally distributed. When conducting multivariate regression, this is often a safe assumption given the central limit theorem.\n",
    "\n",
    "    Central limit theorem: given a population with mean μ and standard deviation σ and take sufficiently large random samples from the population with replacementtext annotation indicator, then the distribution of the sample means will be approximately normally distributed. This will hold true regardless of whether the source population is normal or skewed, provided the sample size is sufficiently large (usually n > 30).\n",
    "    \n",
    "This mathematical magic comes in handy when we are relying on multiple independent variables to describe a pattern for a individual depedent variable."
   ]
  },
  {
   "cell_type": "markdown",
   "metadata": {},
   "source": [
    "<img src=\"Pics/normaldistribution.png\" />"
   ]
  },
  {
   "cell_type": "markdown",
   "metadata": {},
   "source": [
    "But assuming normality can sometimes get us into trouble. What is we have a count variable? An example here would be counting up the number of high school track and field medals won by the individuals in this class. What is we wanted to create a statistical model that attempt to predict how many medals any randomly selected individual won? In this case, we'd want to examine the distribution of our dependent variable, the count of medals won. Odds are, if the typical count of medals per individual is fairly low, then that variable is described by a Poisson distribution. (Bonus tip: At high counts, the Poisson distribution skews toward normality.)"
   ]
  },
  {
   "cell_type": "markdown",
   "metadata": {},
   "source": [
    "<img src=\"Pics/poisson.jpeg\" />"
   ]
  },
  {
   "cell_type": "markdown",
   "metadata": {},
   "source": [
    "### **Correlation**\n",
    "\n",
    "What is we want to know how two variables are related to one another? We see how they correlate with one another. This can be representation numerically, using correlation coefficients (briefly discussed below), and graphically, using scatter plots. When we add a third dimension, we get a bubble plot."
   ]
  },
  {
   "cell_type": "markdown",
   "metadata": {},
   "source": [
    "<img src=\"Pics/TiVAIFsscatter.png\" />"
   ]
  },
  {
   "cell_type": "markdown",
   "metadata": {},
   "source": [
    "<img src=\"Pics/tradedomscatter.png\" />"
   ]
  },
  {
   "cell_type": "markdown",
   "metadata": {},
   "source": [
    "Be careful when drawing conclusions from correlations, however. There are many lurking issues of which you need to be aware. The most famous of these is the axiom \"correlation does not equal causation.\""
   ]
  },
  {
   "cell_type": "markdown",
   "metadata": {},
   "source": [
    "<img src=\"Pics/correlationxkcd.png\" />"
   ]
  },
  {
   "cell_type": "markdown",
   "metadata": {},
   "source": [
    "However, there's a converse truth of which fewer people are aware: *lack of correlation does not mean lack of causation.* An example of this is a car driving through the mountains with a driver who is maintaining an exact speed. Observing only the gas pedal, we would find that pressure on the gas pedal did not correlate with the car's speed. Unless we account for another factor - the slope of the road at a given point - we might draw the absurd conclusion that a car's speed is unrelated to how much pressure is placed on the gas pedal.\n",
    "\n",
    "Keep this point in mind when conducting multivariate regression. You need to find data for the issue-area equivalent of \"the slope of the road\" and control for it."
   ]
  },
  {
   "cell_type": "markdown",
   "metadata": {},
   "source": [
    "<img src=\"Pics/carhills.jpeg\" />"
   ]
  },
  {
   "cell_type": "markdown",
   "metadata": {},
   "source": [
    "You must also take note that there are numerous ways to calcuate correlations between variables, and these different calculation methods are appropriate for different circumstances. The most common method is the Pearson *r* correlation. Indeed, the command in Stata is simply \"correlate\". However, Pearson  *r* correlations are only suitable for calculating the relationship between two continous variables, a continous variable and a dichotomous variable, (the technical term is a point biserial correlation), and two dichotomous variables (technically, a *phi* correlation). When you are examining the relationship between two ordinal variables, Spearman *rho* and Kendall's *tau* are options. (There are other methods, too, and we could spend an entire morning discussing them.)\n",
    "\n",
    "What if we want to account for many variables at once? For instance, in the example above, how would we account for the slope of the road? One way to do that is through the use of multivariate regression."
   ]
  },
  {
   "cell_type": "markdown",
   "metadata": {},
   "source": [
    "### **Regression**\n",
    "\n",
    "Among the many useful quantitative methods employed in international relations analysis, multivariate regression is probably the most common. Multivariate regression comes in many shapes and sizes, but today we're only going to briefly discuss two of its simplest forms: ordinary least squares (OLS) and logisitic (logit) regression.\n",
    "\n",
    "*OLS*\n",
    "\n",
    "A fairly straightforward and familiar form of statistical analysis, OLS discovers the average relationship between one or a set of variables (independent variables) and a variable of interest (the dependent variable) by finding the line of best fit between observations across as many dimensions as there are variables. A bivariate visualization of this process is below."
   ]
  },
  {
   "cell_type": "markdown",
   "metadata": {},
   "source": [
    "<img src=\"Pics/regression-residual-simulation-tutorial2.gif\" >"
   ]
  },
  {
   "cell_type": "markdown",
   "metadata": {},
   "source": [
    "Typically, our focus is on the \"effect\" on one or a few independent variables while controlling for other less-interesting independent variables. Here, \"effect\" is in quotation marks because we should be cautious when making causal inferences. OLS only illustrates correlation, not causation.\n",
    "\n",
    "Also note that OLS comes in many shapes and sizes, and that its simplest form, which we'll demonstrate in this workshop, if often the least useful. This simple form is referred to as pooled regression, where all observations are considered to be independent and identically distributed. This can be a wildly incorrect assumption, particularly when multiple observations come from one individual/city/country/etc. \n",
    "\n",
    "See below for an example of how a bivariate line of best fit might appear with pooled regression. Notice how an increase in x appears to correspond with a marked decrease in y."
   ]
  },
  {
   "cell_type": "markdown",
   "metadata": {},
   "source": [
    "<img src=\"Pics/pooled_regression.png\" >"
   ]
  },
  {
   "cell_type": "markdown",
   "metadata": {},
   "source": [
    "Now, take a look a what happens when we control for the fact that some observations come from \"unit 1\" and others come from \"unit 2\". The relationship is the exact opposite: an increase in x corresponds with an increase in y. This form of regression is known as \"fixed effects.\" Here, each unit as a unique intercept, which means that we can control for \"unit 1-ness,\" \"China-ness,\" or even \"1995-ness,\" without millions of other controls that describe what it means to be part of unit 1. "
   ]
  },
  {
   "cell_type": "markdown",
   "metadata": {},
   "source": [
    "<img src=\"Pics/fixed_effects.png\" >"
   ]
  },
  {
   "cell_type": "markdown",
   "metadata": {},
   "source": [
    "Note that further caution needs to be taken with regard to the distribution of your data. For example, survey data are often censored, where, for example, the lowest category of income on a questionairre might be \"$30k/year\" or less. One type of regression model you might use here is the tobit model, pictured below. There are many, many other types of regression methods, and you should take a course (or several) if you plan on using multivariate regression professionally."
   ]
  },
  {
   "cell_type": "markdown",
   "metadata": {},
   "source": [
    "<img src=\"Pics/tobit.png\" >"
   ]
  },
  {
   "cell_type": "markdown",
   "metadata": {},
   "source": [
    "So, why do we often see OLS used in analyses? It's fairly uncomplicated in mathematic sense, it has well-known statistical properties, it's available in every statistical analysis program you're likely to come across, and it's easy to interpret. A one-unit increase in x corresponds with a β-unit in y (if both x and y are logged, units are % -- an elasticity; if y is logged but x is not, it’s a semi-elasticity: (eβ – 1) * 100%).\n",
    "\n",
    "Another type of statistical analysis you're likely to come across is logistic regression, which is used when you're calculating the probably that some event occurs given a host of independent variables. While it's output (log-odds, or odds ratios, if specified) can take some getting used to in terms of interpretation, its mathematics, similar to OLS, are fairly simple."
   ]
  },
  {
   "cell_type": "markdown",
   "metadata": {},
   "source": [
    "<img src=\"Pics/logistic.gif\" >"
   ]
  },
  {
   "cell_type": "markdown",
   "metadata": {},
   "source": [
    "And now, on to the code..."
   ]
  }
 ],
 "metadata": {
  "kernelspec": {
   "display_name": "Python 3",
   "language": "python",
   "name": "python3"
  },
  "language_info": {
   "codemirror_mode": {
    "name": "ipython",
    "version": 3
   },
   "file_extension": ".py",
   "mimetype": "text/x-python",
   "name": "python",
   "nbconvert_exporter": "python",
   "pygments_lexer": "ipython3",
   "version": "3.7.4"
  }
 },
 "nbformat": 4,
 "nbformat_minor": 4
}
