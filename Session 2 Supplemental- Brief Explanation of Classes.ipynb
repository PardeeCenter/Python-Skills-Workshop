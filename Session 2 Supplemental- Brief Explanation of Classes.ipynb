{
 "cells": [
  {
   "cell_type": "markdown",
   "metadata": {},
   "source": [
    "### **Classes (briefly) explained**\n",
    "\n",
    "*Classes* lay at the heart of Python's operation. They are objects like *lists* or *dictionaries*, and allow for you to easily handle inputs (i.e., data) in a standardized manner. As you can see below, lists automatically come with a series of attributes -- the output below denoted by the double underscore before and after -- and associated methods -- the items at the end of the output below without surrounding underscores.\n",
    "\n",
    "So, for example, we see that lists come with a *__len__* attribute, which describes the length of a list, and *pop* method, which \"pops\" off (i.e., removes) an item from the list while telling you what that item was."
   ]
  },
  {
   "cell_type": "code",
   "execution_count": 21,
   "metadata": {},
   "outputs": [
    {
     "name": "stdout",
     "output_type": "stream",
     "text": [
      "['__add__', '__class__', '__contains__', '__delattr__', '__delitem__', '__dir__', '__doc__', '__eq__', '__format__', '__ge__', '__getattribute__', '__getitem__', '__gt__', '__hash__', '__iadd__', '__imul__', '__init__', '__init_subclass__', '__iter__', '__le__', '__len__', '__lt__', '__mul__', '__ne__', '__new__', '__reduce__', '__reduce_ex__', '__repr__', '__reversed__', '__rmul__', '__setattr__', '__setitem__', '__sizeof__', '__str__', '__subclasshook__', 'append', 'clear', 'copy', 'count', 'extend', 'index', 'insert', 'pop', 'remove', 'reverse', 'sort']\n"
     ]
    }
   ],
   "source": [
    "print(dir(list))"
   ]
  },
  {
   "cell_type": "markdown",
   "metadata": {},
   "source": [
    "So, for example, we can do the following:"
   ]
  },
  {
   "cell_type": "code",
   "execution_count": 22,
   "metadata": {},
   "outputs": [
    {
     "name": "stdout",
     "output_type": "stream",
     "text": [
      "[1, 2, 3]\n",
      "[1, 3]\n"
     ]
    }
   ],
   "source": [
    "my_list = [1,2,3]\n",
    "print(my_list)\n",
    "my_list.pop(1) ##Note: the 1 here is the index (i.e., numbered order in the list, where the first value is indexed at 0)\n",
    "print(my_list)"
   ]
  },
  {
   "cell_type": "markdown",
   "metadata": {},
   "source": [
    "Why should you know about classes? Because the fact that you can easily create them is what makes Python so special. Indeed, being able to create classes means that you can do object-oriented programming -- a huge boost to your resume if you can claim it!\n",
    "\n",
    "Beyond resume-building, however, why is knowing about classes useful? Because **you can create a class to solve a problem that no one has ever solved before**.\n",
    "\n",
    "Take the following example. Right now, the US Department of Defense is offering up a boatload of money to anyone who can efficiently and effectively map underground spaces (i.e., tunnels) in an automated manner. *With Python, that boatload of money could be yours!* (Well, it could be yours assuming that you team up with an engineer that can create a vehicle to navigate and gather data from those underground spaces.) \n",
    "\n",
    "Ok, maybe it'll take more than Python and an engineer-friend to make that money, but Python could be an integral part of that effort. Why? Because you'll need to create 3D maps that will need a common reference point, like the core of the Earth or something. Moreover, you'll need to map attributes specified by the client (say, for example, whether or not the area mapped is hospitable to humans). If you can find an off-the-shelf mapping tool that fits these parameters, more power to you, but I doubt it.\n",
    "\n",
    "To start working at this problem, you can create a class."
   ]
  },
  {
   "cell_type": "code",
   "execution_count": 23,
   "metadata": {},
   "outputs": [],
   "source": [
    "class Gridpoint(object):\n",
    "    def __init__(self,d=0,x=0,y=0,z=0):\n",
    "        self.degree = d\n",
    "        self.x_coord = x\n",
    "        self.y_coord = y\n",
    "        self.z_coord = z\n",
    "    def translate(self,d=0,x=0,y=0,z=0):\n",
    "        self.degree +=d\n",
    "        self.x_coord +=x\n",
    "        self.y_coord +=y\n",
    "        self.z_coord +=z\n",
    "    def print_gridpoint(self):\n",
    "        print(\"({:d},{:d},{:d},{:d})\".format(self.degree, self.x_coord, self.y_coord, self.z_coord))"
   ]
  },
  {
   "cell_type": "markdown",
   "metadata": {},
   "source": [
    "What's going on up above? We're:\n",
    "\n",
    "1. Creating a class called \"Gridpoint\", which, by the way, simultaneously creates a function that converts values to a \"Gridpoint\"--whatever we define that to mean;\\\n",
    "2. Initializing the class Gridpoint at a fixed value of 0,0,0,0 (i.e., the origin of a 3D space inside of a sphere, sort of like the quasi-spherical Earth);\\\n",
    "3. Informing Python how to translate the data that your engineer friend is going to provide you; and\\\n",
    "4. Telling Python how to print out information about grid points.\n",
    "\n",
    "Here's an example:"
   ]
  },
  {
   "cell_type": "code",
   "execution_count": 24,
   "metadata": {
    "scrolled": true
   },
   "outputs": [
    {
     "name": "stdout",
     "output_type": "stream",
     "text": [
      "(65,10,300,999)\n",
      "['__class__', '__delattr__', '__dict__', '__dir__', '__doc__', '__eq__', '__format__', '__ge__', '__getattribute__', '__gt__', '__hash__', '__init__', '__init_subclass__', '__le__', '__lt__', '__module__', '__ne__', '__new__', '__reduce__', '__reduce_ex__', '__repr__', '__setattr__', '__sizeof__', '__str__', '__subclasshook__', '__weakref__', 'degree', 'print_gridpoint', 'translate', 'x_coord', 'y_coord', 'z_coord']\n"
     ]
    }
   ],
   "source": [
    "my_point = Gridpoint(d=65,x=10,y=300,z=999)\n",
    "my_point.print_gridpoint()\n",
    "print(dir(my_point))"
   ]
  },
  {
   "cell_type": "markdown",
   "metadata": {},
   "source": [
    "As you can see, we used the \"print_gridpoint\" method that we've defined for the class \"Gridpoint\" above to print out our degree and x, y, and z coordinates. Then, we printed out the attributes and methods that define our new class GridPoint. Specific to this class, assigning the values of d, x, y, and z respectively reach back to the degree, x_coord, y_coord, and z_coord methods.\n",
    "\n",
    "That's enough for now, but just know that working with classes if fundamental to working with Python. The more clearly you understand how to work with classes, the more versatile you'll be as a programmer and analyst."
   ]
  }
 ],
 "metadata": {
  "kernelspec": {
   "display_name": "Python 3",
   "language": "python",
   "name": "python3"
  },
  "language_info": {
   "codemirror_mode": {
    "name": "ipython",
    "version": 3
   },
   "file_extension": ".py",
   "mimetype": "text/x-python",
   "name": "python",
   "nbconvert_exporter": "python",
   "pygments_lexer": "ipython3",
   "version": "3.7.4"
  }
 },
 "nbformat": 4,
 "nbformat_minor": 2
}
