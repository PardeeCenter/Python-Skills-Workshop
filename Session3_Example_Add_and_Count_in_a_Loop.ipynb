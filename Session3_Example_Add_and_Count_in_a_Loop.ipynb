{
 "cells": [
  {
   "cell_type": "markdown",
   "metadata": {},
   "source": [
    "**Session 3 Example: Add and Count in a Loop** \n",
    "\n"
   ]
  },
  {
   "cell_type": "markdown",
   "metadata": {},
   "source": [
    "This example illustrates a simple loop that incorporates addition and counting. Here, we want to users to provide positive values, which we will count and sum, both in total and according to whether they're odd or even. We want negative values to trigger a warning to try again, and we want zeroes to end the program and provide us our totals.\n",
    "\n",
    "**How to read this code:**\n",
    "1. To start, the \"while\" is used to loop through intially so that the program doesn't move forward until the user inputs a positive value.  \n",
    "2. Once a positive value is entered, the program initializes the first value as odd or even, counts it, and creates both an odd/even-specific and total sum.\n",
    "3. At this point, the program enters a *second loop,* which continues to count and sum the odd, even, and total values until the user enters the value 0. The program also logs the number of negative (referred to here as \"incorrect\") values.\n",
    "4. Once the user enters a zero, the program completes by printing out the totals, sums, and counts.\n",
    "\n",
    "**Note:** It is important to have a loop that can terminate. Infinite loops are bad."
   ]
  },
  {
   "cell_type": "code",
   "execution_count": 9,
   "metadata": {
    "scrolled": true
   },
   "outputs": [
    {
     "name": "stdout",
     "output_type": "stream",
     "text": [
      "Input an integer: 1\n",
      "Input an integer: 2\n",
      "Input an integer: 3\n",
      "Input an integer: -1\n",
      "\n",
      " --> No negative values allowed. Try again.\n",
      "Input an integer: 0\n",
      "\n",
      "  --> Values of 0 terminate this program.\n",
      "\n",
      "\n",
      "And now for the totals: \n",
      "\n",
      "sum of positive odds: 4\n",
      "sum of positive evens: 2\n",
      "total positive sum:  6\n",
      "positive odd count: 2\n",
      "positive even count: 1\n",
      "total positive int count: 3\n",
      "total incorrect values: 1\n"
     ]
    }
   ],
   "source": [
    "incorrect_value_count = 0\n",
    "num1_str = input(\"Input an integer: \")\n",
    "num1_int = int(num1_str)\n",
    "while num1_int <=0:\n",
    "    if num1_int<0:\n",
    "        print()\n",
    "        print(\" --> No negative values allowed. Try again.\")\n",
    "        print()\n",
    "        incorrect_value_count +=1\n",
    "        num1_str = input(\"Input an integer: \")\n",
    "        num1_int = int(num1_str)\n",
    "    if num1_int ==0:\n",
    "        print()\n",
    "        print(\" --> Note: values of 0 terminate this program.\")\n",
    "        break\n",
    "odd_count = 0\n",
    "even_count = 0\n",
    "odd_sum = 0\n",
    "even_sum = 0\n",
    "if num1_int>0:\n",
    "    positive_int_count = 1\n",
    "else:\n",
    "    positive_int_count = 0\n",
    "if num1_int%2 !=0:\n",
    "    odd_count +=1 \n",
    "elif num1_int>0:\n",
    "    even_count +=1 \n",
    "if num1_int%2 !=0:\n",
    "    odd_sum = num1_int\n",
    "elif num1_int > 0:\n",
    "    even_sum = num1_int\n",
    "total_sum = odd_sum + even_sum\n",
    "while num1_int !=0:\n",
    "    num1_str = input(\"Input an integer: \")\n",
    "    num2_int = int(num1_str)\n",
    "    if num2_int <0:\n",
    "        incorrect_value_count +=1\n",
    "        print()\n",
    "        print(\" --> No negative values allowed. Try again.\")\n",
    "        print()\n",
    "        continue\n",
    "    if num2_int%2 ==0:\n",
    "        even_sum = even_sum + num2_int \n",
    "    if num2_int%2!=0:\n",
    "        odd_sum = odd_sum + num2_int \n",
    "    total_sum = odd_sum + even_sum\n",
    "    num1_int = num2_int\n",
    "    if num1_int%2 !=0 and num1_int>0:\n",
    "        odd_count +=1 \n",
    "    elif num1_int%2 ==0 and num1_int>0:\n",
    "        even_count +=1 \n",
    "    positive_int_count = odd_count + even_count\n",
    "else:\n",
    "    print()\n",
    "    print(\"  --> Values of 0 terminate this program.\")\n",
    "    print()\n",
    "    print()\n",
    "    print(\"And now for the totals: \")\n",
    "\n",
    "print(\"sum of positive odds:\", odd_sum)\n",
    "print(\"sum of positive evens:\", even_sum)\n",
    "print(\"total positive sum: \", total_sum)\n",
    "print(\"positive odd count:\", odd_count)\n",
    "print(\"positive even count:\", even_count)\n",
    "print(\"total positive int count:\", positive_int_count)\n",
    "print(\"total incorrect values:\", incorrect_value_count)"
   ]
  },
  {
   "cell_type": "code",
   "execution_count": null,
   "metadata": {},
   "outputs": [],
   "source": []
  }
 ],
 "metadata": {
  "kernelspec": {
   "display_name": "Python 3",
   "language": "python",
   "name": "python3"
  },
  "language_info": {
   "codemirror_mode": {
    "name": "ipython",
    "version": 3
   },
   "file_extension": ".py",
   "mimetype": "text/x-python",
   "name": "python",
   "nbconvert_exporter": "python",
   "pygments_lexer": "ipython3",
   "version": "3.7.4"
  }
 },
 "nbformat": 4,
 "nbformat_minor": 2
}
