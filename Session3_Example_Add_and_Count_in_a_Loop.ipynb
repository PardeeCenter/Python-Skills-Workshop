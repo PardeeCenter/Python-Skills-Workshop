{
 "cells": [
  {
   "cell_type": "markdown",
   "metadata": {},
   "source": [
    "**Session 3 Example: Add and Count in a Loop** \n",
    "\n"
   ]
  },
  {
   "cell_type": "markdown",
   "metadata": {},
   "source": [
    "This example illustrates a simple loop that incorporates addition and counting.\n",
    "\n",
    "1. To start, the \"while\" is used to loop through intially so that the program doesn't move forward until the user inputs a positive value.  \n",
    "2. Once a positive value is entered, the program initializes the first value as odd or even, counts it, and creates both an odd/even-specific and total sum.\n",
    "3. At this point, the program enters a *second loop,* which continues to count and sum the odd, even, and total values until the user enters the value 0. The program also logs the number of negative (referred to here as \"incorrect\") value.\n",
    "4. Once the user enters a zero, the program completes by printing out the totals, sums, and counts.\n",
    "\n",
    "**Note:** It is important to have a loop that can terminate. Infinite loops are bad."
   ]
  },
  {
   "cell_type": "code",
   "execution_count": null,
   "metadata": {},
   "outputs": [],
   "source": [
    "incorrect_value_count = 0\n",
    "num1_str = input(\"Input an integer: \")\n",
    "num1_int = int(num1_str)\n",
    "while num1_int <0:\n",
    "    print()\n",
    "    print(\" --> No negative values allowed. Try again.\")\n",
    "    print()\n",
    "    incorrect_value_count +=1\n",
    "    num1_str = input(\"Input an integer: \")\n",
    "    num1_int = int(num1_str)\n",
    "odd_count = 0\n",
    "even_count = 0\n",
    "odd_sum = 0\n",
    "even_sum = 0\n",
    "if num1_int>0:\n",
    "    positive_int_count = 1\n",
    "else:\n",
    "    positive_int_count = 0\n",
    "if num1_int%2 !=0:\n",
    "    odd_count +=1 \n",
    "elif num1_int>0:\n",
    "    even_count +=1 \n",
    "if num1_int%2 !=0:\n",
    "    odd_sum = num1_int\n",
    "elif num1_int > 0:\n",
    "    even_sum = num1_int\n",
    "total_sum = odd_sum + even_sum\n",
    "while num1_int !=0:\n",
    "    num1_str = input(\"Input an integer: \")\n",
    "    num2_int = int(num1_str)\n",
    "    if num2_int <0:\n",
    "        incorrect_value_count +=1\n",
    "        print()\n",
    "        print(\" --> No negative values allowed. Try again.\")\n",
    "        continue\n",
    "    if num2_int%2 ==0:\n",
    "        even_sum = even_sum + num2_int \n",
    "    if num2_int%2!=0:\n",
    "        odd_sum = odd_sum + num2_int \n",
    "    total_sum = odd_sum + even_sum\n",
    "    num1_int = num2_int\n",
    "    if num1_int%2 !=0 and num1_int>0:\n",
    "        odd_count +=1 \n",
    "    elif num1_int%2 ==0 and num1_int>0:\n",
    "        even_count +=1 \n",
    "    positive_int_count = odd_count + even_count\n",
    "else:\n",
    "    print()\n",
    "    print(\"And now for the totals: \")\n",
    "\n",
    "print()\n",
    "print(\"sum of positive odds:\", odd_sum)\n",
    "print(\"sum of positive evens:\", even_sum)\n",
    "print(\"total positive sum: \", total_sum)\n",
    "print(\"positive odd count:\", odd_count)\n",
    "print(\"positive even count:\", even_count)\n",
    "print(\"total positive int count:\", positive_int_count)\n",
    "print(\"total incorrect values:\", incorrect_value_count)"
   ]
  }
 ],
 "metadata": {
  "kernelspec": {
   "display_name": "Python 3",
   "language": "python",
   "name": "python3"
  },
  "language_info": {
   "codemirror_mode": {
    "name": "ipython",
    "version": 3
   },
   "file_extension": ".py",
   "mimetype": "text/x-python",
   "name": "python",
   "nbconvert_exporter": "python",
   "pygments_lexer": "ipython3",
   "version": "3.7.4"
  }
 },
 "nbformat": 4,
 "nbformat_minor": 2
}
