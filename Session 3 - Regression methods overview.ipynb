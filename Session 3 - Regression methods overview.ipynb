{
 "cells": [
  {
   "cell_type": "markdown",
   "metadata": {},
   "source": [
    "<img src=\"Pics/PardeeCenterLogo_finalnew.png\" />"
   ]
  },
  {
   "cell_type": "markdown",
   "metadata": {},
   "source": [
    "**Session 3 Basic Statistical Analysis: Regression overview**"
   ]
  },
  {
   "cell_type": "markdown",
   "metadata": {},
   "source": [
    "Among the many useful quantitative methods employed in international relations analysis, multivariate regression is probably the most common. Multivariate regression comes in many shapes and sizes, but today we're only going to briefly discuss two of its simplest forms: ordinary least squares (OLS) and logisitic (logit) regression.\n",
    "\n",
    "*OLS*\n",
    "\n",
    "A fairly straightforward and familiar form of statistical analysis, OLS discovers the average relationship between one or a set of variables (independent variables) and a variable of interest (the dependent variable) by finding the line of best fit between observations across as many dimensions as there are variables. A bivariate visualization of this process is below."
   ]
  },
  {
   "cell_type": "markdown",
   "metadata": {},
   "source": [
    "<img src=\"Pics/OLS regression.gif\" >"
   ]
  },
  {
   "cell_type": "markdown",
   "metadata": {},
   "source": [
    "Typically, our focus is on the \"effect\" on one or a few independent variables while controlling for other less-interesting independent variables. Here, \"effect\" is in quotation marks because we should be cautious when making causal inferences. OLS only illustrates correlation, not causation.\n",
    "\n",
    "Also note that OLS comes in many shapes and sizes, and that its simplest form, which we'll demonstrate in this workshop, if often the least useful. This simple form is referred to as pooled regression, where all observations are considered to be independent and identically distributed. This can be a wildly incorrect assumption, particularly when multiple observations come from one individual/city/country/etc. \n",
    "\n",
    "See below for an example of how a bivariate line of best fit might appear with pooled regression. Notice how an increase in x appears to correspond with a marked decrease in y."
   ]
  },
  {
   "cell_type": "markdown",
   "metadata": {},
   "source": [
    "<img src=\"Pics/pooled_regression.png\" >"
   ]
  },
  {
   "cell_type": "markdown",
   "metadata": {},
   "source": [
    "Now, take a look a what happens when we control for the fact that some observations come from \"unit 1\" and others come from \"unit 2\". The relationship is the exact opposite: an increase in x corresponds with an increase in y. This form of regression is known as \"fixed effects.\" Here, each unit as a unique intercept, which means that we can control for \"unit 1-ness,\" \"China-ness,\" or even \"1995-ness,\" without millions of other controls that describe what it means to be part of unit 1. "
   ]
  },
  {
   "cell_type": "markdown",
   "metadata": {},
   "source": [
    "<img src=\"Pics/fixed_effects.png\" >"
   ]
  },
  {
   "cell_type": "markdown",
   "metadata": {},
   "source": [
    "Note that further caution needs to be taken with regard to the distribution of your data. For example, survey data are often censored, where, for example, the lowest category of income on a questionairre might be \"$30k/year\" or less. One type of regression model you might use here is the tobit model, pictured below. There are many, many other types of regression methods, and you should take a course (or several) if you plan on using multivariate regression professionally."
   ]
  },
  {
   "cell_type": "markdown",
   "metadata": {},
   "source": [
    "<img src=\"Pics/tobit.png\" >"
   ]
  },
  {
   "cell_type": "markdown",
   "metadata": {},
   "source": [
    "So, why do we often see OLS used in analyses? It's fairly uncomplicated in mathematic sense, it has well-known statistical properties, it's available in every statistical analysis program you're likely to come across, and it's easy to interpret. A one-unit increase in x corresponds with a β-unit in y (if both x and y are logged, units are % -- an elasticity; if y is logged but x is not, it’s a semi-elasticity: (eβ – 1) * 100%).\n",
    "\n",
    "Another type of statistical analysis you're likely to come across is logistic regression, which is used when you're calculating the probably that some event occurs given a host of independent variables. While it's output (log-odds, or odds ratios, if specified) can take some getting used to in terms of interpretation, its mathematics, similar to OLS, are fairly simple."
   ]
  },
  {
   "cell_type": "markdown",
   "metadata": {},
   "source": [
    "<img src=\"Pics/logistic.gif\" >"
   ]
  },
  {
   "cell_type": "code",
   "execution_count": null,
   "metadata": {},
   "outputs": [],
   "source": [
    "And now, on to the code..."
   ]
  }
 ],
 "metadata": {
  "kernelspec": {
   "display_name": "Python 3",
   "language": "python",
   "name": "python3"
  },
  "language_info": {
   "codemirror_mode": {
    "name": "ipython",
    "version": 3
   },
   "file_extension": ".py",
   "mimetype": "text/x-python",
   "name": "python",
   "nbconvert_exporter": "python",
   "pygments_lexer": "ipython3",
   "version": "3.7.6"
  }
 },
 "nbformat": 4,
 "nbformat_minor": 4
}
