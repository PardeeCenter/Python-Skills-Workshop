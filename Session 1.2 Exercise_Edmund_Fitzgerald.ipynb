{
 "cells": [
  {
   "cell_type": "markdown",
   "metadata": {},
   "source": [
    "<img src=\"Pics/PardeeCenterLogo_finalnew.png\" />"
   ]
  },
  {
   "cell_type": "markdown",
   "metadata": {},
   "source": [
    "## **Exercise 1: The Wreck of the Edmund Fitzgerald**\n"
   ]
  },
  {
   "cell_type": "markdown",
   "metadata": {},
   "source": [
    "On November 9, 1975, the SS Edmund Fitzgerald was coming back from some mill in Wisconsin when they left fully loaded for Cleveland. However, the gales of November came early, and the Edmund Fitzergerald and its 29 crew members went down roughly 15 miles shy of Whitefish Bay.\n",
    "\n",
    "20 years later, Terrence Tysall and Mike Zee became the first and only humans to scuba dive to the Edmund Fitzgerald's final resting place and physically touch the wreckage. \n",
    "\n",
    "Create a program that answers the following questions:\n",
    "\n",
    "1. How many feet deep did Tysall and Zee dive?  \n",
    "2. How many meters deep did they dive?  \n",
    "3. Assuming an ascent rate of 20 meters per minute and adding a 3-minute safety stop once they reached 5 meters in depth, approximately how many minutes would it have taken for Tysall and Zee to return to the surface?  \n",
    "4. What if they were returning from Lake Superior's deepest sounding?  \n",
    "\n",
    "**Notes:**  \n",
    "a. There are six feet in a fathom.  \n",
    "b. There are roughly 3.28084 feet per meter.  \n",
    "\n",
    "**Code to copy and paste:**  \n",
    "\"How many fathoms did they dive? \"  \n",
    "\"They dove \" \" feet.\"  \n",
    "\"That's a depth of roughly \" \" meters.\"  \n",
    "\"It took them roughly \" \" minutes to return to the surface.\"  \n",
    "\"What is Lake Superior's deepest sounding? \"  \n",
    "\"From Lake Superior's deepest sounding, it would take roughly \" \" minutes to return to the surface.\"  \n",
    "\n",
    "**Constants you might want to create:**  \n",
    "FEET_PER_FATHOM  \n",
    "FEET_PER_METER  \n",
    "ASCENT_RATE  \n",
    "\n"
   ]
  },
  {
   "cell_type": "markdown",
   "metadata": {},
   "source": [
    "<img src=\"Pics/Edmund Fitzergerald Exercise.png\" />"
   ]
  },
  {
   "cell_type": "markdown",
   "metadata": {},
   "source": [
    "**ANSWER BELOW:**"
   ]
  },
  {
   "cell_type": "code",
   "execution_count": null,
   "metadata": {
    "scrolled": true
   },
   "outputs": [],
   "source": [
    "num_str1 = input(\"How many fathoms did they dive? \")\n",
    "num_int1 = int(num_str1)\n",
    "FEET_PER_FATHOM = 6\n",
    "FEET_PER_METER = 3.28084\n",
    "ASCENT_RATE = 1/20\n",
    "print()\n",
    "print(\"They dove \", num_int1*FEET_PER_FATHOM, \" feet.\")\n",
    "print(\"That's a depth of roughly \", round((num_int1*FEET_PER_FATHOM/FEET_PER_METER), 1), \" meters.\")\n",
    "print(\"It took them roughly \", round((((num_int1*FEET_PER_FATHOM/FEET_PER_METER)*ASCENT_RATE) + 3),1), \\\n",
    "      \" minutes to return to the surface.\")\n",
    "num_str2 = input(\"What is Lake Superior's deepest sounding? \")\n",
    "num_int2 = int(num_str2)\n",
    "print(\"From Lake Superior's deepest sounding, it would take roughly \", \\\n",
    "      round((((num_int2*FEET_PER_FATHOM/FEET_PER_METER)*ASCENT_RATE) + 3),1),\\\n",
    "      \" minutes to return to the surface.\")"
   ]
  },
  {
   "cell_type": "markdown",
   "metadata": {},
   "source": [
    "*End"
   ]
  }
 ],
 "metadata": {
  "kernelspec": {
   "display_name": "Python 3",
   "language": "python",
   "name": "python3"
  },
  "language_info": {
   "codemirror_mode": {
    "name": "ipython",
    "version": 3
   },
   "file_extension": ".py",
   "mimetype": "text/x-python",
   "name": "python",
   "nbconvert_exporter": "python",
   "pygments_lexer": "ipython3",
   "version": "3.7.4"
  }
 },
 "nbformat": 4,
 "nbformat_minor": 4
}
