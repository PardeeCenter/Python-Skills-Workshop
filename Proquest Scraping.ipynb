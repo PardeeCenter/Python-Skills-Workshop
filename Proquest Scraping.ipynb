{
 "cells": [
  {
   "cell_type": "code",
   "execution_count": 8,
   "metadata": {
    "scrolled": false
   },
   "outputs": [
    {
     "ename": "ModuleNotFoundError",
     "evalue": "No module named 'selenium'",
     "output_type": "error",
     "traceback": [
      "\u001b[1;31m---------------------------------------------------------------------------\u001b[0m",
      "\u001b[1;31mModuleNotFoundError\u001b[0m                       Traceback (most recent call last)",
      "\u001b[1;32m<ipython-input-8-c653b839a1c5>\u001b[0m in \u001b[0;36m<module>\u001b[1;34m\u001b[0m\n\u001b[0;32m      1\u001b[0m \u001b[1;32mimport\u001b[0m \u001b[0mre\u001b[0m\u001b[1;33m\u001b[0m\u001b[1;33m\u001b[0m\u001b[0m\n\u001b[1;32m----> 2\u001b[1;33m \u001b[1;32mfrom\u001b[0m \u001b[0mselenium\u001b[0m \u001b[1;32mimport\u001b[0m \u001b[0mwebdriver\u001b[0m\u001b[1;33m\u001b[0m\u001b[1;33m\u001b[0m\u001b[0m\n\u001b[0m\u001b[0;32m      3\u001b[0m \u001b[1;32mimport\u001b[0m \u001b[0mpandas\u001b[0m \u001b[1;32mas\u001b[0m \u001b[0mpd\u001b[0m\u001b[1;33m\u001b[0m\u001b[1;33m\u001b[0m\u001b[0m\n",
      "\u001b[1;31mModuleNotFoundError\u001b[0m: No module named 'selenium'"
     ]
    }
   ],
   "source": [
    "import re\n",
    "from selenium import webdriver\n",
    "import pandas as pd"
   ]
  },
  {
   "cell_type": "code",
   "execution_count": 3,
   "metadata": {},
   "outputs": [],
   "source": [
    "driver = webdriver.Chrome()"
   ]
  },
  {
   "cell_type": "code",
   "execution_count": 4,
   "metadata": {},
   "outputs": [],
   "source": [
    "link=\"https://search-proquest-com.du.idm.oclc.org/advanced?accountid=14608\"\n",
    "driver.get(link)"
   ]
  },
  {
   "cell_type": "markdown",
   "metadata": {},
   "source": [
    "#### Manually figure out some settings in the opened page to pre-set the searching condition\n",
    "- Please Log in with your own ID and password\n",
    "- In the directed page, click result page option and select \"Exclude duplicate documents\"\n",
    "- Specific date range to any time start and end in the year desired\n",
    "- Source types are: Books, Conference Papers & Proceedings, Government & Official Publications, Historical Newspapers, Historical Periodicals, Magazines, Newspapers, Reports, Scholarly Journals, Trade Journals, Working Papers\n",
    "- Databases used are all (96)"
   ]
  },
  {
   "cell_type": "code",
   "execution_count": 11,
   "metadata": {},
   "outputs": [],
   "source": [
    "word_search=[\"Cheese\",\"Burger\",\"Fries\",\"Diet Coke\",\"Mayonnaise\"]\n",
    "country_list=[\"China\",\"France\",\"United States\",\"Japan\"]"
   ]
  },
  {
   "cell_type": "code",
   "execution_count": null,
   "metadata": {},
   "outputs": [],
   "source": [
    "dt=pd.read_csv(\"/path/file.csv\")\n",
    "word_search=list(dt[\"ColumnName1\"])\n",
    "country_list=list(dt[\"ColumnName2\"])"
   ]
  },
  {
   "cell_type": "code",
   "execution_count": 13,
   "metadata": {},
   "outputs": [],
   "source": [
    "## search for year 2018\n",
    "## remember to change the configure settings before proceeding to another year\n",
    "Test_results=[]\n",
    "Word=[]\n",
    "Country=[]\n",
    "for w in word_search:\n",
    "    for c in country_list:\n",
    "        \n",
    "    \n",
    "\n",
    "        w_text_box=w.strip().split(\";\")\n",
    "        c_text_box=c.strip().split(\";\")\n",
    "        Hit_box=0\n",
    "        for w_txt in w_text_box:\n",
    "            for c_txt in c_text_box:\n",
    "\n",
    "                text_search_box=driver.find_element_by_name(\"searchTerm\")\n",
    "                text_search_box.clear()\n",
    "                text_search_box.send_keys('\"'+w_txt+'\"'+\" AND \"+'\"'+c_txt+'\"')\n",
    "\n",
    "                search_btn=driver.find_element_by_id(\"expandedSearch\")\n",
    "                search_btn.click()\n",
    "\n",
    "                try:\n",
    "                    result=driver.find_element_by_id(\"pqResultsCount\")\n",
    "                    w_tem=w_txt\n",
    "                    c_tem=c_txt\n",
    "                    if Hit_box<int(re.sub(r\"[^0-9]\",r'',result.text)):\n",
    "                        Hit_box=int(re.sub(r\"[^0-9]\",r'',result.text))\n",
    "                        w_tem=w_txt\n",
    "                        c_tem=c_txt                       \n",
    "                        \n",
    "                except:\n",
    "                    try:\n",
    "                        result=driver.find_element_by_class_name(\"pagingBoxNoResultContent\")\n",
    "                        driver.back()\n",
    "                    except:\n",
    "                        print(txt)\n",
    "                        driver.back()\n",
    "                \n",
    "                \n",
    "            Word.append(w_tem)\n",
    "            Country.append(c_tem)\n",
    "            Test_results.append(Hit_box)"
   ]
  },
  {
   "cell_type": "code",
   "execution_count": 14,
   "metadata": {},
   "outputs": [
    {
     "data": {
      "text/plain": [
       "[16504,\n",
       " 10085,\n",
       " 54978,\n",
       " 6621,\n",
       " 12008,\n",
       " 12625,\n",
       " 23044,\n",
       " 7880,\n",
       " 7787,\n",
       " 6617,\n",
       " 16026,\n",
       " 6410,\n",
       " 3605,\n",
       " 3134,\n",
       " 8097,\n",
       " 2773,\n",
       " 375,\n",
       " 284,\n",
       " 1041,\n",
       " 217,\n",
       " 1222,\n",
       " 1016,\n",
       " 1695,\n",
       " 1103]"
      ]
     },
     "execution_count": 14,
     "metadata": {},
     "output_type": "execute_result"
    }
   ],
   "source": [
    "result_dt=pd.DataFrame({\"CountrySearched\":Country,\"ItemSearched\":item,\n",
    "             ,\"Hits\":Test_results})\n",
    "result_dt[\"Year\"]=\n",
    "result_dt.to_csv(\"\",index=False)"
   ]
  }
 ],
 "metadata": {
  "kernelspec": {
   "display_name": "Python 3",
   "language": "python",
   "name": "python3"
  },
  "language_info": {
   "codemirror_mode": {
    "name": "ipython",
    "version": 3
   },
   "file_extension": ".py",
   "mimetype": "text/x-python",
   "name": "python",
   "nbconvert_exporter": "python",
   "pygments_lexer": "ipython3",
   "version": "3.7.4"
  }
 },
 "nbformat": 4,
 "nbformat_minor": 2
}
